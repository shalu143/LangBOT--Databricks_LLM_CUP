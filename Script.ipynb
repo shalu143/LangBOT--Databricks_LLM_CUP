{
 "cells": [
  {
   "cell_type": "code",
   "execution_count": 0,
   "metadata": {
    "application/vnd.databricks.v1+cell": {
     "cellMetadata": {
      "byteLimit": 2048000,
      "rowLimit": 10000
     },
     "inputWidgets": {},
     "nuid": "6420be10-2aca-4191-8135-98e90c29fbb1",
     "showTitle": false,
     "title": ""
    }
   },
   "outputs": [
    {
     "output_type": "stream",
     "name": "stdout",
     "output_type": "stream",
     "text": [
      "\u001B[43mNote: you may need to restart the kernel using dbutils.library.restartPython() to use updated packages.\u001B[0m\nCollecting mlflow\n  Downloading mlflow-2.8.1-py3-none-any.whl (19.0 MB)\n     ━━━━━━━━━━━━━━━━━━━━━━━━━━━━━━━━━━━━━━━━ 19.0/19.0 MB 18.2 MB/s eta 0:00:00\nRequirement already satisfied: requests<3,>=2.17.3 in /databricks/python3/lib/python3.10/site-packages (from mlflow) (2.28.1)\nCollecting docker<7,>=4.0.0\n  Downloading docker-6.1.3-py3-none-any.whl (148 kB)\n     ━━━━━━━━━━━━━━━━━━━━━━━━━━━━━━━━━━━━━━━ 148.1/148.1 kB 1.3 MB/s eta 0:00:00\nRequirement already satisfied: entrypoints<1 in /databricks/python3/lib/python3.10/site-packages (from mlflow) (0.4)\nRequirement already satisfied: Jinja2<4,>=2.11 in /databricks/python3/lib/python3.10/site-packages (from mlflow) (2.11.3)\nRequirement already satisfied: protobuf<5,>=3.12.0 in /databricks/python3/lib/python3.10/site-packages (from mlflow) (3.19.4)\nRequirement already satisfied: packaging<24 in /databricks/python3/lib/python3.10/site-packages (from mlflow) (21.3)\nRequirement already satisfied: pyyaml<7,>=5.1 in /databricks/python3/lib/python3.10/site-packages (from mlflow) (6.0)\nRequirement already satisfied: pandas<3 in /databricks/python3/lib/python3.10/site-packages (from mlflow) (1.4.4)\nRequirement already satisfied: pyarrow<15,>=4.0.0 in /databricks/python3/lib/python3.10/site-packages (from mlflow) (8.0.0)\nRequirement already satisfied: click<9,>=7.0 in /databricks/python3/lib/python3.10/site-packages (from mlflow) (8.0.4)\nRequirement already satisfied: sqlalchemy<3,>=1.4.0 in /databricks/python3/lib/python3.10/site-packages (from mlflow) (1.4.39)\nRequirement already satisfied: gunicorn<22 in /databricks/python3/lib/python3.10/site-packages (from mlflow) (20.1.0)\nRequirement already satisfied: sqlparse<1,>=0.4.0 in /databricks/python3/lib/python3.10/site-packages (from mlflow) (0.4.2)\nCollecting alembic!=1.10.0,<2\n  Downloading alembic-1.13.0-py3-none-any.whl (230 kB)\n     ━━━━━━━━━━━━━━━━━━━━━━━━━━━━━━━━━━━━━━━ 230.6/230.6 kB 1.8 MB/s eta 0:00:00\nRequirement already satisfied: numpy<2 in /databricks/python3/lib/python3.10/site-packages (from mlflow) (1.21.5)\nRequirement already satisfied: Flask<4 in /databricks/python3/lib/python3.10/site-packages (from mlflow) (1.1.2+db1)\nRequirement already satisfied: importlib-metadata!=4.7.0,<7,>=3.7.0 in /databricks/python3/lib/python3.10/site-packages (from mlflow) (4.11.3)\nRequirement already satisfied: scikit-learn<2 in /databricks/python3/lib/python3.10/site-packages (from mlflow) (1.1.1)\nCollecting querystring-parser<2\n  Downloading querystring_parser-1.2.4-py2.py3-none-any.whl (7.9 kB)\nRequirement already satisfied: databricks-cli<1,>=0.8.7 in /databricks/python3/lib/python3.10/site-packages (from mlflow) (0.17.7)\nRequirement already satisfied: cloudpickle<3 in /databricks/python3/lib/python3.10/site-packages (from mlflow) (2.0.0)\nRequirement already satisfied: scipy<2 in /databricks/python3/lib/python3.10/site-packages (from mlflow) (1.9.1)\nRequirement already satisfied: gitpython<4,>=2.1.0 in /databricks/python3/lib/python3.10/site-packages (from mlflow) (3.1.27)\nRequirement already satisfied: matplotlib<4 in /databricks/python3/lib/python3.10/site-packages (from mlflow) (3.5.2)\nRequirement already satisfied: pytz<2024 in /databricks/python3/lib/python3.10/site-packages (from mlflow) (2022.1)\nRequirement already satisfied: markdown<4,>=3.3 in /databricks/python3/lib/python3.10/site-packages (from mlflow) (3.3.4)\nRequirement already satisfied: Mako in /databricks/python3/lib/python3.10/site-packages (from alembic!=1.10.0,<2->mlflow) (1.2.0)\nRequirement already satisfied: typing-extensions>=4 in /databricks/python3/lib/python3.10/site-packages (from alembic!=1.10.0,<2->mlflow) (4.3.0)\nRequirement already satisfied: pyjwt>=1.7.0 in /usr/lib/python3/dist-packages (from databricks-cli<1,>=0.8.7->mlflow) (2.3.0)\nRequirement already satisfied: urllib3<2.0.0,>=1.26.7 in /databricks/python3/lib/python3.10/site-packages (from databricks-cli<1,>=0.8.7->mlflow) (1.26.11)\nRequirement already satisfied: tabulate>=0.7.7 in /databricks/python3/lib/python3.10/site-packages (from databricks-cli<1,>=0.8.7->mlflow) (0.8.10)\nRequirement already satisfied: oauthlib>=3.1.0 in /usr/lib/python3/dist-packages (from databricks-cli<1,>=0.8.7->mlflow) (3.2.0)\nRequirement already satisfied: six>=1.10.0 in /usr/lib/python3/dist-packages (from databricks-cli<1,>=0.8.7->mlflow) (1.16.0)\nRequirement already satisfied: websocket-client>=0.32.0 in /databricks/python3/lib/python3.10/site-packages (from docker<7,>=4.0.0->mlflow) (0.58.0)\nRequirement already satisfied: Werkzeug>=0.15 in /databricks/python3/lib/python3.10/site-packages (from Flask<4->mlflow) (2.0.3)\nRequirement already satisfied: itsdangerous>=0.24 in /databricks/python3/lib/python3.10/site-packages (from Flask<4->mlflow) (2.0.1)\nRequirement already satisfied: gitdb<5,>=4.0.1 in /databricks/python3/lib/python3.10/site-packages (from gitpython<4,>=2.1.0->mlflow) (4.0.10)\nRequirement already satisfied: setuptools>=3.0 in /databricks/python3/lib/python3.10/site-packages (from gunicorn<22->mlflow) (63.4.1)\nRequirement already satisfied: zipp>=0.5 in /databricks/python3/lib/python3.10/site-packages (from importlib-metadata!=4.7.0,<7,>=3.7.0->mlflow) (3.8.0)\nRequirement already satisfied: MarkupSafe>=0.23 in /databricks/python3/lib/python3.10/site-packages (from Jinja2<4,>=2.11->mlflow) (2.0.1)\nRequirement already satisfied: cycler>=0.10 in /databricks/python3/lib/python3.10/site-packages (from matplotlib<4->mlflow) (0.11.0)\nRequirement already satisfied: kiwisolver>=1.0.1 in /databricks/python3/lib/python3.10/site-packages (from matplotlib<4->mlflow) (1.4.2)\nRequirement already satisfied: pillow>=6.2.0 in /databricks/python3/lib/python3.10/site-packages (from matplotlib<4->mlflow) (9.2.0)\nRequirement already satisfied: pyparsing>=2.2.1 in /databricks/python3/lib/python3.10/site-packages (from matplotlib<4->mlflow) (3.0.9)\nRequirement already satisfied: fonttools>=4.22.0 in /databricks/python3/lib/python3.10/site-packages (from matplotlib<4->mlflow) (4.25.0)\nRequirement already satisfied: python-dateutil>=2.7 in /databricks/python3/lib/python3.10/site-packages (from matplotlib<4->mlflow) (2.8.2)\nRequirement already satisfied: certifi>=2017.4.17 in /databricks/python3/lib/python3.10/site-packages (from requests<3,>=2.17.3->mlflow) (2022.9.14)\nRequirement already satisfied: idna<4,>=2.5 in /databricks/python3/lib/python3.10/site-packages (from requests<3,>=2.17.3->mlflow) (3.3)\nRequirement already satisfied: charset-normalizer<3,>=2 in /databricks/python3/lib/python3.10/site-packages (from requests<3,>=2.17.3->mlflow) (2.0.4)\nRequirement already satisfied: threadpoolctl>=2.0.0 in /databricks/python3/lib/python3.10/site-packages (from scikit-learn<2->mlflow) (2.2.0)\nRequirement already satisfied: joblib>=1.0.0 in /databricks/python3/lib/python3.10/site-packages (from scikit-learn<2->mlflow) (1.2.0)\nRequirement already satisfied: greenlet!=0.4.17 in /databricks/python3/lib/python3.10/site-packages (from sqlalchemy<3,>=1.4.0->mlflow) (1.1.1)\nRequirement already satisfied: smmap<6,>=3.0.1 in /databricks/python3/lib/python3.10/site-packages (from gitdb<5,>=4.0.1->gitpython<4,>=2.1.0->mlflow) (5.0.0)\nInstalling collected packages: querystring-parser, docker, alembic, mlflow\nSuccessfully installed alembic-1.13.0 docker-6.1.3 mlflow-2.8.1 querystring-parser-1.2.4\n\u001B[43mNote: you may need to restart the kernel using dbutils.library.restartPython() to use updated packages.\u001B[0m\n\u001B[43mNote: you may need to restart the kernel using dbutils.library.restartPython() to use updated packages.\u001B[0m\nCollecting git+https://github.com/mlflow/mlflow.git@refs/pull/10420/merge\n  Cloning https://github.com/mlflow/mlflow.git (to revision refs/pull/10420/merge) to /tmp/pip-req-build-f8uq4451\n  Running command git clone --filter=blob:none --quiet https://github.com/mlflow/mlflow.git /tmp/pip-req-build-f8uq4451\n  WARNING: Did not find branch or tag 'refs/pull/10420/merge', assuming revision or ref.\n  Running command git fetch -q https://github.com/mlflow/mlflow.git refs/pull/10420/merge\n  Running command git checkout -q 559d5bdd44e0034f9f4bc46b4752aba06f0e7dc5\n  Resolved https://github.com/mlflow/mlflow.git to commit 559d5bdd44e0034f9f4bc46b4752aba06f0e7dc5\n  Running command git submodule update --init --recursive -q\n  Installing build dependencies: started\n  Installing build dependencies: finished with status 'done'\n  Getting requirements to build wheel: started\n  Getting requirements to build wheel: finished with status 'done'\n  Preparing metadata (pyproject.toml): started\n  Preparing metadata (pyproject.toml): finished with status 'done'\nCollecting lxml==4.9.3\n  Downloading lxml-4.9.3-cp310-cp310-manylinux_2_28_x86_64.whl (7.9 MB)\n     ━━━━━━━━━━━━━━━━━━━━━━━━━━━━━━━━━━━━━━━━ 7.9/7.9 MB 12.7 MB/s eta 0:00:00\nCollecting transformers==4.30.2\n  Downloading transformers-4.30.2-py3-none-any.whl (7.2 MB)\n     ━━━━━━━━━━━━━━━━━━━━━━━━━━━━━━━━━━━━━━━━ 7.2/7.2 MB 25.6 MB/s eta 0:00:00\nCollecting langchain==0.0.342\n  Downloading langchain-0.0.342-py3-none-any.whl (1.9 MB)\n     ━━━━━━━━━━━━━━━━━━━━━━━━━━━━━━━━━━━━━━━━ 1.9/1.9 MB 15.6 MB/s eta 0:00:00\nCollecting databricks-vectorsearch==0.21\n  Downloading databricks_vectorsearch-0.21-py3-none-any.whl (8.5 kB)\nRequirement already satisfied: filelock in /databricks/python3/lib/python3.10/site-packages (from transformers==4.30.2) (3.6.0)\nRequirement already satisfied: tokenizers!=0.11.3,<0.14,>=0.11.1 in /databricks/python3/lib/python3.10/site-packages (from transformers==4.30.2) (0.13.3)\nRequirement already satisfied: packaging>=20.0 in /databricks/python3/lib/python3.10/site-packages (from transformers==4.30.2) (21.3)\nRequirement already satisfied: regex!=2019.12.17 in /databricks/python3/lib/python3.10/site-packages (from transformers==4.30.2) (2022.7.9)\nRequirement already satisfied: huggingface-hub<1.0,>=0.14.1 in /databricks/python3/lib/python3.10/site-packages (from transformers==4.30.2) (0.15.1)\nRequirement already satisfied: requests in /databricks/python3/lib/python3.10/site-packages (from transformers==4.30.2) (2.28.1)\nCollecting safetensors>=0.3.1\n  Downloading safetensors-0.4.1-cp310-cp310-manylinux_2_17_x86_64.manylinux2014_x86_64.whl (1.3 MB)\n     ━━━━━━━━━━━━━━━━━━━━━━━━━━━━━━━━━━━━━━━━ 1.3/1.3 MB 8.2 MB/s eta 0:00:00\nRequirement already satisfied: tqdm>=4.27 in /databricks/python3/lib/python3.10/site-packages (from transformers==4.30.2) (4.64.1)\nRequirement already satisfied: pyyaml>=5.1 in /databricks/python3/lib/python3.10/site-packages (from transformers==4.30.2) (6.0)\nRequirement already satisfied: numpy>=1.17 in /databricks/python3/lib/python3.10/site-packages (from transformers==4.30.2) (1.21.5)\nCollecting langchain-core<0.1,>=0.0.7\n  Downloading langchain_core-0.0.9-py3-none-any.whl (177 kB)\n     ━━━━━━━━━━━━━━━━━━━━━━━━━━━━━━━━━━━━━━━ 177.8/177.8 kB 1.4 MB/s eta 0:00:00\nCollecting jsonpatch<2.0,>=1.33\n  Downloading jsonpatch-1.33-py2.py3-none-any.whl (12 kB)\nRequirement already satisfied: aiohttp<4.0.0,>=3.8.3 in /databricks/python3/lib/python3.10/site-packages (from langchain==0.0.342) (3.8.4)\nRequirement already satisfied: SQLAlchemy<3,>=1.4 in /databricks/python3/lib/python3.10/site-packages (from langchain==0.0.342) (1.4.39)\nCollecting langsmith<0.1.0,>=0.0.63\n  Downloading langsmith-0.0.69-py3-none-any.whl (48 kB)\n     ━━━━━━━━━━━━━━━━━━━━━━━━━━━━━━━━━━━━━━━ 48.2/48.2 kB 340.3 kB/s eta 0:00:00\nRequirement already satisfied: pydantic<3,>=1 in /databricks/python3/lib/python3.10/site-packages (from langchain==0.0.342) (1.10.6)\nRequirement already satisfied: dataclasses-json<0.7,>=0.5.7 in /databricks/python3/lib/python3.10/site-packages (from langchain==0.0.342) (0.5.8)\nRequirement already satisfied: tenacity<9.0.0,>=8.1.0 in /databricks/python3/lib/python3.10/site-packages (from langchain==0.0.342) (8.1.0)\nRequirement already satisfied: async-timeout<5.0.0,>=4.0.0 in /databricks/python3/lib/python3.10/site-packages (from langchain==0.0.342) (4.0.2)\nCollecting anyio<4.0\n  Downloading anyio-3.7.1-py3-none-any.whl (80 kB)\n     ━━━━━━━━━━━━━━━━━━━━━━━━━━━━━━━━━━━━━━━━ 80.9/80.9 kB 1.2 MB/s eta 0:00:00\nRequirement already satisfied: protobuf<5,>=3.12.0 in /databricks/python3/lib/python3.10/site-packages (from databricks-vectorsearch==0.21) (3.19.4)\nRequirement already satisfied: mlflow-skinny<3,>=2.4.0 in /databricks/python3/lib/python3.10/site-packages (from databricks-vectorsearch==0.21) (2.4.2)\nRequirement already satisfied: cloudpickle<4 in /databricks/python3/lib/python3.10/site-packages (from mlflow==2.8.2.dev0) (2.0.0)\nRequirement already satisfied: matplotlib<4 in /databricks/python3/lib/python3.10/site-packages (from mlflow==2.8.2.dev0) (3.5.2)\nRequirement already satisfied: Flask<4 in /databricks/python3/lib/python3.10/site-packages (from mlflow==2.8.2.dev0) (1.1.2+db1)\nRequirement already satisfied: databricks-cli<1,>=0.8.7 in /databricks/python3/lib/python3.10/site-packages (from mlflow==2.8.2.dev0) (0.17.7)\nRequirement already satisfied: click<9,>=7.0 in /databricks/python3/lib/python3.10/site-packages (from mlflow==2.8.2.dev0) (8.0.4)\nRequirement already satisfied: alembic!=1.10.0,<2 in /local_disk0/.ephemeral_nfs/envs/pythonEnv-54970c6c-e7bc-4876-815b-e41a9250e594/lib/python3.10/site-packages (from mlflow==2.8.2.dev0) (1.13.0)\nRequirement already satisfied: pyarrow<15,>=4.0.0 in /databricks/python3/lib/python3.10/site-packages (from mlflow==2.8.2.dev0) (8.0.0)\nRequirement already satisfied: importlib-metadata!=4.7.0,<7,>=3.7.0 in /databricks/python3/lib/python3.10/site-packages (from mlflow==2.8.2.dev0) (4.11.3)\nRequirement already satisfied: gunicorn<22 in /databricks/python3/lib/python3.10/site-packages (from mlflow==2.8.2.dev0) (20.1.0)\nRequirement already satisfied: querystring-parser<2 in /local_disk0/.ephemeral_nfs/envs/pythonEnv-54970c6c-e7bc-4876-815b-e41a9250e594/lib/python3.10/site-packages (from mlflow==2.8.2.dev0) (1.2.4)\nRequirement already satisfied: Jinja2<4,>=2.11 in /databricks/python3/lib/python3.10/site-packages (from mlflow==2.8.2.dev0) (2.11.3)\nRequirement already satisfied: gitpython<4,>=2.1.0 in /databricks/python3/lib/python3.10/site-packages (from mlflow==2.8.2.dev0) (3.1.27)\nRequirement already satisfied: sqlparse<1,>=0.4.0 in /databricks/python3/lib/python3.10/site-packages (from mlflow==2.8.2.dev0) (0.4.2)\nRequirement already satisfied: scikit-learn<2 in /databricks/python3/lib/python3.10/site-packages (from mlflow==2.8.2.dev0) (1.1.1)\nRequirement already satisfied: docker<7,>=4.0.0 in /local_disk0/.ephemeral_nfs/envs/pythonEnv-54970c6c-e7bc-4876-815b-e41a9250e594/lib/python3.10/site-packages (from mlflow==2.8.2.dev0) (6.1.3)\nRequirement already satisfied: pytz<2024 in /databricks/python3/lib/python3.10/site-packages (from mlflow==2.8.2.dev0) (2022.1)\nRequirement already satisfied: pandas<3 in /databricks/python3/lib/python3.10/site-packages (from mlflow==2.8.2.dev0) (1.4.4)\nRequirement already satisfied: entrypoints<1 in /databricks/python3/lib/python3.10/site-packages (from mlflow==2.8.2.dev0) (0.4)\nRequirement already satisfied: markdown<4,>=3.3 in /databricks/python3/lib/python3.10/site-packages (from mlflow==2.8.2.dev0) (3.3.4)\nRequirement already satisfied: scipy<2 in /databricks/python3/lib/python3.10/site-packages (from mlflow==2.8.2.dev0) (1.9.1)\nRequirement already satisfied: multidict<7.0,>=4.5 in /databricks/python3/lib/python3.10/site-packages (from aiohttp<4.0.0,>=3.8.3->langchain==0.0.342) (6.0.4)\nRequirement already satisfied: yarl<2.0,>=1.0 in /databricks/python3/lib/python3.10/site-packages (from aiohttp<4.0.0,>=3.8.3->langchain==0.0.342) (1.9.2)\nRequirement already satisfied: frozenlist>=1.1.1 in /databricks/python3/lib/python3.10/site-packages (from aiohttp<4.0.0,>=3.8.3->langchain==0.0.342) (1.3.3)\nRequirement already satisfied: attrs>=17.3.0 in /databricks/python3/lib/python3.10/site-packages (from aiohttp<4.0.0,>=3.8.3->langchain==0.0.342) (21.4.0)\nRequirement already satisfied: aiosignal>=1.1.2 in /databricks/python3/lib/python3.10/site-packages (from aiohttp<4.0.0,>=3.8.3->langchain==0.0.342) (1.3.1)\nRequirement already satisfied: charset-normalizer<4.0,>=2.0 in /databricks/python3/lib/python3.10/site-packages (from aiohttp<4.0.0,>=3.8.3->langchain==0.0.342) (2.0.4)\nRequirement already satisfied: typing-extensions>=4 in /databricks/python3/lib/python3.10/site-packages (from alembic!=1.10.0,<2->mlflow==2.8.2.dev0) (4.3.0)\nRequirement already satisfied: Mako in /databricks/python3/lib/python3.10/site-packages (from alembic!=1.10.0,<2->mlflow==2.8.2.dev0) (1.2.0)\nCollecting sniffio>=1.1\n  Downloading sniffio-1.3.0-py3-none-any.whl (10 kB)\nCollecting exceptiongroup\n  Downloading exceptiongroup-1.2.0-py3-none-any.whl (16 kB)\nRequirement already satisfied: idna>=2.8 in /databricks/python3/lib/python3.10/site-packages (from anyio<4.0->langchain==0.0.342) (3.3)\nRequirement already satisfied: urllib3<2.0.0,>=1.26.7 in /databricks/python3/lib/python3.10/site-packages (from databricks-cli<1,>=0.8.7->mlflow==2.8.2.dev0) (1.26.11)\nRequirement already satisfied: six>=1.10.0 in /usr/lib/python3/dist-packages (from databricks-cli<1,>=0.8.7->mlflow==2.8.2.dev0) (1.16.0)\nRequirement already satisfied: oauthlib>=3.1.0 in /usr/lib/python3/dist-packages (from databricks-cli<1,>=0.8.7->mlflow==2.8.2.dev0) (3.2.0)\nRequirement already satisfied: tabulate>=0.7.7 in /databricks/python3/lib/python3.10/site-packages (from databricks-cli<1,>=0.8.7->mlflow==2.8.2.dev0) (0.8.10)\nRequirement already satisfied: pyjwt>=1.7.0 in /usr/lib/python3/dist-packages (from databricks-cli<1,>=0.8.7->mlflow==2.8.2.dev0) (2.3.0)\nRequirement already satisfied: marshmallow-enum<2.0.0,>=1.5.1 in /databricks/python3/lib/python3.10/site-packages (from dataclasses-json<0.7,>=0.5.7->langchain==0.0.342) (1.5.1)\nRequirement already satisfied: typing-inspect>=0.4.0 in /databricks/python3/lib/python3.10/site-packages (from dataclasses-json<0.7,>=0.5.7->langchain==0.0.342) (0.9.0)\nRequirement already satisfied: marshmallow<4.0.0,>=3.3.0 in /databricks/python3/lib/python3.10/site-packages (from dataclasses-json<0.7,>=0.5.7->langchain==0.0.342) (3.19.0)\nRequirement already satisfied: websocket-client>=0.32.0 in /databricks/python3/lib/python3.10/site-packages (from docker<7,>=4.0.0->mlflow==2.8.2.dev0) (0.58.0)\nRequirement already satisfied: Werkzeug>=0.15 in /databricks/python3/lib/python3.10/site-packages (from Flask<4->mlflow==2.8.2.dev0) (2.0.3)\nRequirement already satisfied: itsdangerous>=0.24 in /databricks/python3/lib/python3.10/site-packages (from Flask<4->mlflow==2.8.2.dev0) (2.0.1)\nRequirement already satisfied: gitdb<5,>=4.0.1 in /databricks/python3/lib/python3.10/site-packages (from gitpython<4,>=2.1.0->mlflow==2.8.2.dev0) (4.0.10)\nRequirement already satisfied: setuptools>=3.0 in /databricks/python3/lib/python3.10/site-packages (from gunicorn<22->mlflow==2.8.2.dev0) (63.4.1)\nRequirement already satisfied: fsspec in /databricks/python3/lib/python3.10/site-packages (from huggingface-hub<1.0,>=0.14.1->transformers==4.30.2) (2022.7.1)\nRequirement already satisfied: zipp>=0.5 in /databricks/python3/lib/python3.10/site-packages (from importlib-metadata!=4.7.0,<7,>=3.7.0->mlflow==2.8.2.dev0) (3.8.0)\nRequirement already satisfied: MarkupSafe>=0.23 in /databricks/python3/lib/python3.10/site-packages (from Jinja2<4,>=2.11->mlflow==2.8.2.dev0) (2.0.1)\nCollecting jsonpointer>=1.9\n  Downloading jsonpointer-2.4-py2.py3-none-any.whl (7.8 kB)\nRequirement already satisfied: python-dateutil>=2.7 in /databricks/python3/lib/python3.10/site-packages (from matplotlib<4->mlflow==2.8.2.dev0) (2.8.2)\nRequirement already satisfied: fonttools>=4.22.0 in /databricks/python3/lib/python3.10/site-packages (from matplotlib<4->mlflow==2.8.2.dev0) (4.25.0)\nRequirement already satisfied: pyparsing>=2.2.1 in /databricks/python3/lib/python3.10/site-packages (from matplotlib<4->mlflow==2.8.2.dev0) (3.0.9)\nRequirement already satisfied: kiwisolver>=1.0.1 in /databricks/python3/lib/python3.10/site-packages (from matplotlib<4->mlflow==2.8.2.dev0) (1.4.2)\nRequirement already satisfied: cycler>=0.10 in /databricks/python3/lib/python3.10/site-packages (from matplotlib<4->mlflow==2.8.2.dev0) (0.11.0)\nRequirement already satisfied: pillow>=6.2.0 in /databricks/python3/lib/python3.10/site-packages (from matplotlib<4->mlflow==2.8.2.dev0) (9.2.0)\nRequirement already satisfied: certifi>=2017.4.17 in /databricks/python3/lib/python3.10/site-packages (from requests->transformers==4.30.2) (2022.9.14)\nRequirement already satisfied: joblib>=1.0.0 in /databricks/python3/lib/python3.10/site-packages (from scikit-learn<2->mlflow==2.8.2.dev0) (1.2.0)\nRequirement already satisfied: threadpoolctl>=2.0.0 in /databricks/python3/lib/python3.10/site-packages (from scikit-learn<2->mlflow==2.8.2.dev0) (2.2.0)\nRequirement already satisfied: greenlet!=0.4.17 in /databricks/python3/lib/python3.10/site-packages (from SQLAlchemy<3,>=1.4->langchain==0.0.342) (1.1.1)\nRequirement already satisfied: smmap<6,>=3.0.1 in /databricks/python3/lib/python3.10/site-packages (from gitdb<5,>=4.0.1->gitpython<4,>=2.1.0->mlflow==2.8.2.dev0) (5.0.0)\nRequirement already satisfied: mypy-extensions>=0.3.0 in /databricks/python3/lib/python3.10/site-packages (from typing-inspect>=0.4.0->dataclasses-json<0.7,>=0.5.7->langchain==0.0.342) (0.4.3)\nBuilding wheels for collected packages: mlflow\n  Building wheel for mlflow (pyproject.toml): started\n  Building wheel for mlflow (pyproject.toml): finished with status 'done'\n  Created wheel for mlflow: filename=mlflow-2.8.2.dev0-py3-none-any.whl size=4669232 sha256=14cfaca156c5aaf18bdc1351bcabd58b15ebbd913deab3ff34858f5f8a62a390\n  Stored in directory: /tmp/pip-ephem-wheel-cache-3yau_a6u/wheels/e3/ad/e3/fc4e53b07dad77f142769a8f6181fedb8168826e11742ef712\nSuccessfully built mlflow\nInstalling collected packages: sniffio, safetensors, lxml, jsonpointer, exceptiongroup, langsmith, jsonpatch, anyio, transformers, mlflow, langchain-core, databricks-vectorsearch, langchain\n  Attempting uninstall: transformers\n    Found existing installation: transformers 4.29.2\n    Not uninstalling transformers at /databricks/python3/lib/python3.10/site-packages, outside environment /local_disk0/.ephemeral_nfs/envs/pythonEnv-54970c6c-e7bc-4876-815b-e41a9250e594\n    Can't uninstall 'transformers'. No files were found to uninstall.\n  Attempting uninstall: mlflow\n    Found existing installation: mlflow 2.8.1\n    Uninstalling mlflow-2.8.1:\n      Successfully uninstalled mlflow-2.8.1\n  Attempting uninstall: langchain\n    Found existing installation: langchain 0.0.181\n    Not uninstalling langchain at /databricks/python3/lib/python3.10/site-packages, outside environment /local_disk0/.ephemeral_nfs/envs/pythonEnv-54970c6c-e7bc-4876-815b-e41a9250e594\n    Can't uninstall 'langchain'. No files were found to uninstall.\nSuccessfully installed anyio-3.7.1 databricks-vectorsearch-0.21 exceptiongroup-1.2.0 jsonpatch-1.33 jsonpointer-2.4 langchain-0.0.342 langchain-core-0.0.9 langsmith-0.0.69 lxml-4.9.3 mlflow-2.8.2.dev0 safetensors-0.4.1 sniffio-1.3.0 transformers-4.30.2\n\u001B[43mNote: you may need to restart the kernel using dbutils.library.restartPython() to use updated packages.\u001B[0m\n\u001B[43mNote: you may need to restart the kernel using dbutils.library.restartPython() to use updated packages.\u001B[0m\nRequirement already satisfied: langchain in /local_disk0/.ephemeral_nfs/envs/pythonEnv-54970c6c-e7bc-4876-815b-e41a9250e594/lib/python3.10/site-packages (0.0.342)\nCollecting langchain\n  Downloading langchain-0.0.345-py3-none-any.whl (2.0 MB)\n     ━━━━━━━━━━━━━━━━━━━━━━━━━━━━━━━━━━━━━━━━ 2.0/2.0 MB 5.2 MB/s eta 0:00:00\nRequirement already satisfied: SQLAlchemy<3,>=1.4 in /databricks/python3/lib/python3.10/site-packages (from langchain) (1.4.39)\nRequirement already satisfied: PyYAML>=5.3 in /databricks/python3/lib/python3.10/site-packages (from langchain) (6.0)\nRequirement already satisfied: anyio<4.0 in /local_disk0/.ephemeral_nfs/envs/pythonEnv-54970c6c-e7bc-4876-815b-e41a9250e594/lib/python3.10/site-packages (from langchain) (3.7.1)\nRequirement already satisfied: dataclasses-json<0.7,>=0.5.7 in /databricks/python3/lib/python3.10/site-packages (from langchain) (0.5.8)\nRequirement already satisfied: jsonpatch<2.0,>=1.33 in /local_disk0/.ephemeral_nfs/envs/pythonEnv-54970c6c-e7bc-4876-815b-e41a9250e594/lib/python3.10/site-packages (from langchain) (1.33)\nRequirement already satisfied: langchain-core<0.1,>=0.0.9 in /local_disk0/.ephemeral_nfs/envs/pythonEnv-54970c6c-e7bc-4876-815b-e41a9250e594/lib/python3.10/site-packages (from langchain) (0.0.9)\nRequirement already satisfied: requests<3,>=2 in /databricks/python3/lib/python3.10/site-packages (from langchain) (2.28.1)\nRequirement already satisfied: async-timeout<5.0.0,>=4.0.0 in /databricks/python3/lib/python3.10/site-packages (from langchain) (4.0.2)\nRequirement already satisfied: langsmith<0.1.0,>=0.0.63 in /local_disk0/.ephemeral_nfs/envs/pythonEnv-54970c6c-e7bc-4876-815b-e41a9250e594/lib/py\n\n*** WARNING: max output size exceeded, skipping output. ***\n\n8.0)\nRequirement already satisfied: six>=1.9.0 in /usr/lib/python3/dist-packages (from kubernetes>=28.1.0->chromadb) (1.16.0)\nRequirement already satisfied: requests-oauthlib in /databricks/python3/lib/python3.10/site-packages (from kubernetes>=28.1.0->chromadb) (1.3.1)\nRequirement already satisfied: google-auth>=1.0.1 in /databricks/python3/lib/python3.10/site-packages (from kubernetes>=28.1.0->chromadb) (1.33.0)\nRequirement already satisfied: python-dateutil>=2.5.3 in /databricks/python3/lib/python3.10/site-packages (from kubernetes>=28.1.0->chromadb) (2.8.2)\nRequirement already satisfied: protobuf in /databricks/python3/lib/python3.10/site-packages (from onnxruntime>=1.14.1->chromadb) (3.19.4)\nCollecting coloredlogs\n  Downloading coloredlogs-15.0.1-py2.py3-none-any.whl (46 kB)\n     ━━━━━━━━━━━━━━━━━━━━━━━━━━━━━━━━━━━━━━━━ 46.0/46.0 kB 7.7 MB/s eta 0:00:00\nRequirement already satisfied: flatbuffers in /databricks/python3/lib/python3.10/site-packages (from onnxruntime>=1.14.1->chromadb) (23.5.26)\nCollecting sympy\n  Downloading sympy-1.12-py3-none-any.whl (5.7 MB)\n     ━━━━━━━━━━━━━━━━━━━━━━━━━━━━━━━━━━━━━━━━ 5.7/5.7 MB 117.9 MB/s eta 0:00:00\nRequirement already satisfied: packaging in /databricks/python3/lib/python3.10/site-packages (from onnxruntime>=1.14.1->chromadb) (21.3)\nCollecting importlib-metadata<7.0,>=6.0\n  Downloading importlib_metadata-6.11.0-py3-none-any.whl (23 kB)\nCollecting deprecated>=1.2.6\n  Downloading Deprecated-1.2.14-py2.py3-none-any.whl (9.6 kB)\nCollecting backoff<3.0.0,>=1.10.0\n  Downloading backoff-2.2.1-py3-none-any.whl (15 kB)\nCollecting opentelemetry-exporter-otlp-proto-common==1.21.0\n  Downloading opentelemetry_exporter_otlp_proto_common-1.21.0-py3-none-any.whl (17 kB)\nCollecting opentelemetry-proto==1.21.0\n  Downloading opentelemetry_proto-1.21.0-py3-none-any.whl (50 kB)\n     ━━━━━━━━━━━━━━━━━━━━━━━━━━━━━━━━━━━━━━━━ 50.8/50.8 kB 10.3 MB/s eta 0:00:00\nRequirement already satisfied: googleapis-common-protos~=1.52 in /databricks/python3/lib/python3.10/site-packages (from opentelemetry-exporter-otlp-proto-grpc>=1.2.0->chromadb) (1.56.4)\nCollecting opentelemetry-semantic-conventions==0.42b0\n  Downloading opentelemetry_semantic_conventions-0.42b0-py3-none-any.whl (36 kB)\nCollecting opentelemetry-instrumentation-asgi==0.42b0\n  Downloading opentelemetry_instrumentation_asgi-0.42b0-py3-none-any.whl (13 kB)\nCollecting opentelemetry-util-http==0.42b0\n  Downloading opentelemetry_util_http-0.42b0-py3-none-any.whl (6.9 kB)\nCollecting opentelemetry-instrumentation==0.42b0\n  Downloading opentelemetry_instrumentation-0.42b0-py3-none-any.whl (25 kB)\nRequirement already satisfied: wrapt<2.0.0,>=1.0.0 in /databricks/python3/lib/python3.10/site-packages (from opentelemetry-instrumentation==0.42b0->opentelemetry-instrumentation-fastapi>=0.41b0->chromadb) (1.14.1)\nRequirement already satisfied: setuptools>=16.0 in /databricks/python3/lib/python3.10/site-packages (from opentelemetry-instrumentation==0.42b0->opentelemetry-instrumentation-fastapi>=0.41b0->chromadb) (63.4.1)\nCollecting asgiref~=3.0\n  Downloading asgiref-3.7.2-py3-none-any.whl (24 kB)\nCollecting monotonic>=1.5\n  Downloading monotonic-1.6-py2.py3-none-any.whl (8.2 kB)\nRequirement already satisfied: charset-normalizer<3,>=2 in /databricks/python3/lib/python3.10/site-packages (from requests>=2.28->chromadb) (2.0.4)\nRequirement already satisfied: idna<4,>=2.5 in /databricks/python3/lib/python3.10/site-packages (from requests>=2.28->chromadb) (3.3)\nRequirement already satisfied: click<9.0.0,>=7.1.1 in /databricks/python3/lib/python3.10/site-packages (from typer>=0.9.0->chromadb) (8.0.4)\nCollecting h11>=0.8\n  Downloading h11-0.14.0-py3-none-any.whl (58 kB)\n     ━━━━━━━━━━━━━━━━━━━━━━━━━━━━━━━━━━━━━━━━ 58.3/58.3 kB 10.3 MB/s eta 0:00:00\nCollecting watchfiles>=0.13\n  Downloading watchfiles-0.21.0-cp310-cp310-manylinux_2_17_x86_64.manylinux2014_x86_64.whl (1.3 MB)\n     ━━━━━━━━━━━━━━━━━━━━━━━━━━━━━━━━━━━━━━━━ 1.3/1.3 MB 92.5 MB/s eta 0:00:00\nCollecting uvloop!=0.15.0,!=0.15.1,>=0.14.0\n  Downloading uvloop-0.19.0-cp310-cp310-manylinux_2_17_x86_64.manylinux2014_x86_64.whl (3.4 MB)\n     ━━━━━━━━━━━━━━━━━━━━━━━━━━━━━━━━━━━━━━━━ 3.4/3.4 MB 108.9 MB/s eta 0:00:00\nCollecting httptools>=0.5.0\n  Downloading httptools-0.6.1-cp310-cp310-manylinux_2_5_x86_64.manylinux1_x86_64.manylinux_2_17_x86_64.manylinux2014_x86_64.whl (341 kB)\n     ━━━━━━━━━━━━━━━━━━━━━━━━━━━━━━━━━━━━━━ 341.4/341.4 kB 49.8 MB/s eta 0:00:00\nCollecting python-dotenv>=0.13\n  Downloading python_dotenv-1.0.0-py3-none-any.whl (19 kB)\nCollecting websockets>=10.4\n  Downloading websockets-12.0-cp310-cp310-manylinux_2_5_x86_64.manylinux1_x86_64.manylinux_2_17_x86_64.manylinux2014_x86_64.whl (130 kB)\n     ━━━━━━━━━━━━━━━━━━━━━━━━━━━━━━━━━━━━━━━ 130.2/130.2 kB 5.7 MB/s eta 0:00:00\nRequirement already satisfied: exceptiongroup in /local_disk0/.ephemeral_nfs/envs/pythonEnv-54970c6c-e7bc-4876-815b-e41a9250e594/lib/python3.10/site-packages (from anyio<4.0.0,>=3.7.1->fastapi>=0.95.2->chromadb) (1.2.0)\nRequirement already satisfied: sniffio>=1.1 in /local_disk0/.ephemeral_nfs/envs/pythonEnv-54970c6c-e7bc-4876-815b-e41a9250e594/lib/python3.10/site-packages (from anyio<4.0.0,>=3.7.1->fastapi>=0.95.2->chromadb) (1.3.0)\nRequirement already satisfied: pyasn1-modules>=0.2.1 in /databricks/python3/lib/python3.10/site-packages (from google-auth>=1.0.1->kubernetes>=28.1.0->chromadb) (0.2.8)\nRequirement already satisfied: cachetools<5.0,>=2.0.0 in /databricks/python3/lib/python3.10/site-packages (from google-auth>=1.0.1->kubernetes>=28.1.0->chromadb) (4.2.4)\nRequirement already satisfied: rsa<5,>=3.1.4 in /databricks/python3/lib/python3.10/site-packages (from google-auth>=1.0.1->kubernetes>=28.1.0->chromadb) (4.9)\nRequirement already satisfied: zipp>=0.5 in /databricks/python3/lib/python3.10/site-packages (from importlib-metadata<7.0,>=6.0->opentelemetry-api>=1.2.0->chromadb) (3.8.0)\nCollecting humanfriendly>=9.1\n  Downloading humanfriendly-10.0-py2.py3-none-any.whl (86 kB)\n     ━━━━━━━━━━━━━━━━━━━━━━━━━━━━━━━━━━━━━━━ 86.8/86.8 kB 725.3 kB/s eta 0:00:00\nRequirement already satisfied: pyparsing!=3.0.5,>=2.0.2 in /databricks/python3/lib/python3.10/site-packages (from packaging->onnxruntime>=1.14.1->chromadb) (3.0.9)\nCollecting mpmath>=0.19\n  Downloading mpmath-1.3.0-py3-none-any.whl (536 kB)\n     ━━━━━━━━━━━━━━━━━━━━━━━━━━━━━━━━━━━━━━━ 536.2/536.2 kB 5.1 MB/s eta 0:00:00\nRequirement already satisfied: pyasn1<0.5.0,>=0.4.6 in /databricks/python3/lib/python3.10/site-packages (from pyasn1-modules>=0.2.1->google-auth>=1.0.1->kubernetes>=28.1.0->chromadb) (0.4.8)\nBuilding wheels for collected packages: pypika\n  Building wheel for pypika (pyproject.toml): started\n  Building wheel for pypika (pyproject.toml): finished with status 'done'\n  Created wheel for pypika: filename=PyPika-0.48.9-py2.py3-none-any.whl size=53723 sha256=22e940cd194013388a106f918806ed6e4e54ee72496d4489e6e5fec717217369\n  Stored in directory: /root/.cache/pip/wheels/e1/26/51/d0bffb3d2fd82256676d7ad3003faea3bd6dddc9577af665f4\nSuccessfully built pypika\nInstalling collected packages: pypika, mpmath, monotonic, mmh3, websockets, uvloop, typing-extensions, tqdm, tenacity, sympy, python-dotenv, pulsar-client, overrides, opentelemetry-util-http, opentelemetry-semantic-conventions, opentelemetry-proto, oauthlib, numpy, importlib-metadata, humanfriendly, httptools, h11, grpcio, deprecated, bcrypt, backoff, watchfiles, uvicorn, typer, starlette, posthog, opentelemetry-exporter-otlp-proto-common, opentelemetry-api, coloredlogs, chroma-hnswlib, asgiref, opentelemetry-sdk, opentelemetry-instrumentation, onnxruntime, kubernetes, fastapi, opentelemetry-instrumentation-asgi, opentelemetry-exporter-otlp-proto-grpc, opentelemetry-instrumentation-fastapi, chromadb\n  Attempting uninstall: typing-extensions\n    Found existing installation: typing_extensions 4.3.0\n    Not uninstalling typing-extensions at /databricks/python3/lib/python3.10/site-packages, outside environment /local_disk0/.ephemeral_nfs/envs/pythonEnv-54970c6c-e7bc-4876-815b-e41a9250e594\n    Can't uninstall 'typing_extensions'. No files were found to uninstall.\n  Attempting uninstall: tqdm\n    Found existing installation: tqdm 4.64.1\n    Not uninstalling tqdm at /databricks/python3/lib/python3.10/site-packages, outside environment /local_disk0/.ephemeral_nfs/envs/pythonEnv-54970c6c-e7bc-4876-815b-e41a9250e594\n    Can't uninstall 'tqdm'. No files were found to uninstall.\n  Attempting uninstall: tenacity\n    Found existing installation: tenacity 8.1.0\n    Not uninstalling tenacity at /databricks/python3/lib/python3.10/site-packages, outside environment /local_disk0/.ephemeral_nfs/envs/pythonEnv-54970c6c-e7bc-4876-815b-e41a9250e594\n    Can't uninstall 'tenacity'. No files were found to uninstall.\n  Attempting uninstall: oauthlib\n    Found existing installation: oauthlib 3.2.0\n    Not uninstalling oauthlib at /usr/lib/python3/dist-packages, outside environment /local_disk0/.ephemeral_nfs/envs/pythonEnv-54970c6c-e7bc-4876-815b-e41a9250e594\n    Can't uninstall 'oauthlib'. No files were found to uninstall.\n  Attempting uninstall: numpy\n    Found existing installation: numpy 1.21.5\n    Not uninstalling numpy at /databricks/python3/lib/python3.10/site-packages, outside environment /local_disk0/.ephemeral_nfs/envs/pythonEnv-54970c6c-e7bc-4876-815b-e41a9250e594\n    Can't uninstall 'numpy'. No files were found to uninstall.\n  Attempting uninstall: importlib-metadata\n    Found existing installation: importlib-metadata 4.11.3\n    Not uninstalling importlib-metadata at /databricks/python3/lib/python3.10/site-packages, outside environment /local_disk0/.ephemeral_nfs/envs/pythonEnv-54970c6c-e7bc-4876-815b-e41a9250e594\n    Can't uninstall 'importlib-metadata'. No files were found to uninstall.\n  Attempting uninstall: grpcio\n    Found existing installation: grpcio 1.48.1\n    Not uninstalling grpcio at /databricks/python3/lib/python3.10/site-packages, outside environment /local_disk0/.ephemeral_nfs/envs/pythonEnv-54970c6c-e7bc-4876-815b-e41a9250e594\n    Can't uninstall 'grpcio'. No files were found to uninstall.\n  Attempting uninstall: bcrypt\n    Found existing installation: bcrypt 3.2.0\n    Not uninstalling bcrypt at /databricks/python3/lib/python3.10/site-packages, outside environment /local_disk0/.ephemeral_nfs/envs/pythonEnv-54970c6c-e7bc-4876-815b-e41a9250e594\n    Can't uninstall 'bcrypt'. No files were found to uninstall.\n  Attempting uninstall: typer\n    Found existing installation: typer 0.7.0\n    Not uninstalling typer at /databricks/python3/lib/python3.10/site-packages, outside environment /local_disk0/.ephemeral_nfs/envs/pythonEnv-54970c6c-e7bc-4876-815b-e41a9250e594\n    Can't uninstall 'typer'. No files were found to uninstall.\nERROR: pip's dependency resolver does not currently take into account all the packages that are installed. This behaviour is the source of the following dependency conflicts.\npetastorm 0.12.1 requires pyspark>=2.1.0, which is not installed.\ndatabricks-feature-store 0.13.6 requires pyspark<4,>=3.1.2, which is not installed.\nydata-profiling 4.2.0 requires numpy<1.24,>=1.16.0, but you have numpy 1.26.2 which is incompatible.\nspacy 3.5.3 requires typer<0.8.0,>=0.3.0, but you have typer 0.9.0 which is incompatible.\nscipy 1.9.1 requires numpy<1.25.0,>=1.18.5, but you have numpy 1.26.2 which is incompatible.\nnumba 0.55.1 requires numpy<1.22,>=1.18, but you have numpy 1.26.2 which is incompatible.\nmleap 0.20.0 requires scikit-learn<0.23.0,>=0.22.0, but you have scikit-learn 1.1.1 which is incompatible.\nSuccessfully installed asgiref-3.7.2 backoff-2.2.1 bcrypt-4.1.1 chroma-hnswlib-0.7.3 chromadb-0.4.18 coloredlogs-15.0.1 deprecated-1.2.14 fastapi-0.104.1 grpcio-1.59.3 h11-0.14.0 httptools-0.6.1 humanfriendly-10.0 importlib-metadata-6.11.0 kubernetes-28.1.0 mmh3-4.0.1 monotonic-1.6 mpmath-1.3.0 numpy-1.26.2 oauthlib-3.2.2 onnxruntime-1.16.3 opentelemetry-api-1.21.0 opentelemetry-exporter-otlp-proto-common-1.21.0 opentelemetry-exporter-otlp-proto-grpc-1.21.0 opentelemetry-instrumentation-0.42b0 opentelemetry-instrumentation-asgi-0.42b0 opentelemetry-instrumentation-fastapi-0.42b0 opentelemetry-proto-1.21.0 opentelemetry-sdk-1.21.0 opentelemetry-semantic-conventions-0.42b0 opentelemetry-util-http-0.42b0 overrides-7.4.0 posthog-3.0.2 pulsar-client-3.3.0 pypika-0.48.9 python-dotenv-1.0.0 starlette-0.27.0 sympy-1.12 tenacity-8.2.3 tqdm-4.66.1 typer-0.9.0 typing-extensions-4.8.0 uvicorn-0.24.0.post1 uvloop-0.19.0 watchfiles-0.21.0 websockets-12.0\n\u001B[43mNote: you may need to restart the kernel using dbutils.library.restartPython() to use updated packages.\u001B[0m\n\u001B[43mNote: you may need to restart the kernel using dbutils.library.restartPython() to use updated packages.\u001B[0m\nCollecting InstructorEmbedding\n  Downloading InstructorEmbedding-1.0.1-py2.py3-none-any.whl (19 kB)\nInstalling collected packages: InstructorEmbedding\nSuccessfully installed InstructorEmbedding-1.0.1\n\u001B[43mNote: you may need to restart the kernel using dbutils.library.restartPython() to use updated packages.\u001B[0m\n\u001B[43mNote: you may need to restart the kernel using dbutils.library.restartPython() to use updated packages.\u001B[0m\nCollecting gradio\n  Downloading gradio-4.7.1-py3-none-any.whl (16.5 MB)\n     ━━━━━━━━━━━━━━━━━━━━━━━━━━━━━━━━━━━━━━━━ 16.5/16.5 MB 55.4 MB/s eta 0:00:00\nRequirement already satisfied: packaging in /databricks/python3/lib/python3.10/site-packages (from gradio) (21.3)\nCollecting tomlkit==0.12.0\n  Downloading tomlkit-0.12.0-py3-none-any.whl (37 kB)\nRequirement already satisfied: markupsafe~=2.0 in /databricks/python3/lib/python3.10/site-packages (from gradio) (2.0.1)\nRequirement already satisfied: typing-extensions~=4.0 in /local_disk0/.ephemeral_nfs/envs/pythonEnv-54970c6c-e7bc-4876-815b-e41a9250e594/lib/python3.10/site-packages (from gradio) (4.8.0)\nRequirement already satisfied: pyyaml<7.0,>=5.0 in /databricks/python3/lib/python3.10/site-packages (from gradio) (6.0)\nCollecting pydub\n  Downloading pydub-0.25.1-py2.py3-none-any.whl (32 kB)\nRequirement already satisfied: importlib-resources<7.0,>=1.3 in /databricks/python3/lib/python3.10/site-packages (from gradio) (5.12.0)\nRequirement already satisfied: fastapi in /local_disk0/.ephemeral_nfs/envs/pythonEnv-54970c6c-e7bc-4876-815b-e41a9250e594/lib/python3.10/site-packages (from gradio) (0.104.1)\nRequirement already satisfied: matplotlib~=3.0 in /databricks/python3/lib/python3.10/site-packages (from gradio) (3.5.2)\nCollecting orjson~=3.0\n  Downloading orjson-3.9.10-cp310-cp310-manylinux_2_17_x86_64.manylinux2014_x86_64.whl (138 kB)\n     ━━━━━━━━━━━━━━━━━━━━━━━━━━━━━━━━━━━━━━ 138.7/138.7 kB 30.1 MB/s eta 0:00:00\nCollecting altair<6.0,>=4.2.0\n  Downloading altair-5.2.0-py3-none-any.whl (996 kB)\n     ━━━━━━━━━━━━━━━━━━━━━━━━━━━━━━━━━━━━━━ 996.9/996.9 kB 77.0 MB/s eta 0:00:00\nRequirement already satisfied: pillow<11.0,>=8.0 in /databricks/python3/lib/python3.10/site-packages (from gradio) (9.2.0)\nCollecting semantic-version~=2.0\n  Downloading semantic_version-2.10.0-py2.py3-none-any.whl (15 kB)\nRequirement already satisfied: pandas<3.0,>=1.0 in /databricks/python3/lib/python3.10/site-packages (from gradio) (1.4.4)\nRequirement already satisfied: typer[all]<1.0,>=0.9 in /local_disk0/.ephemeral_nfs/envs/pythonEnv-54970c6c-e7bc-4876-815b-e41a9250e594/lib/python3.10/site-packages (from gradio) (0.9.0)\nCollecting httpx\n  Downloading httpx-0.25.2-py3-none-any.whl (74 kB)\n     ━━━━━━━━━━━━━━━━━━━━━━━━━━━━━━━━━━━━━━━━ 75.0/75.0 kB 19.0 MB/s eta 0:00:00\nRequirement already satisfied: huggingface-hub>=0.14.0 in /databricks/python3/lib/python3.10/site-packages (from gradio) (0.15.1)\nRequirement already satisfied: requests~=2.0 in /databricks/python3/lib/python3.10/site-packages (from gradio) (2.28.1)\nCollecting aiofiles<24.0,>=22.0\n  Downloading aiofiles-23.2.1-py3-none-any.whl (15 kB)\nRequirement already satisfied: numpy~=1.0 in /local_disk0/.ephemeral_nfs/envs/pythonEnv-54970c6c-e7bc-4876-815b-e41a9250e594/lib/python3.10/site-packages (from gradio) (1.26.2)\nCollecting ffmpy\n  Downloading ffmpy-0.3.1.tar.gz (5.5 kB)\n  Preparing metadata (setup.py): started\n  Preparing metadata (setup.py): finished with status 'done'\nRequirement already satisfied: uvicorn>=0.14.0 in /local_disk0/.ephemeral_nfs/envs/pythonEnv-54970c6c-e7bc-4876-815b-e41a9250e594/lib/python3.10/site-packages (from gradio) (0.24.0.post1)\nRequirement already satisfied: jinja2<4.0 in /databricks/python3/lib/python3.10/site-packages (from gradio) (2.11.3)\nCollecting python-multipart\n  Downloading python_multipart-0.0.6-py3-none-any.whl (45 kB)\n     ━━━━━━━━━━━━━━━━━━━━━━━━━━━━━━━━━━━━━━━━ 45.7/45.7 kB 11.0 MB/s eta 0:00:00\nCollecting pydantic>=2.0\n  Downloading pydantic-2.5.2-py3-none-any.whl (381 kB)\n     ━━━━━━━━━━━━━━━━━━━━━━━━━━━━━━━━━━━━━━ 381.9/381.9 kB 52.5 MB/s eta 0:00:00\nCollecting gradio-client==0.7.0\n  Downloading gradio_client-0.7.0-py3-none-any.whl (302 kB)\n     ━━━━━━━━━━━━━━━━━━━━━━━━━━━━━━━━━━━━━━ 302.7/302.7 kB 48.3 MB/s eta 0:00:00\nRequirement already satisfied: fsspec in /databricks/python3/lib/python3.10/site-packages (from gradio-client==0.7.0->gradio) (2022.7.1)\nCollecting websockets<12.0,>=10.0\n  Downloading websockets-11.0.3-cp310-cp310-manylinux_2_5_x86_64.manylinux1_x86_64.manylinux_2_17_x86_64.manylinux2014_x86_64.whl (129 kB)\n     ━━━━━━━━━━━━━━━━━━━━━━━━━━━━━━━━━━━━━━ 129.9/129.9 kB 29.5 MB/s eta 0:00:00\nRequirement already satisfied: jsonschema>=3.0 in /databricks/python3/lib/python3.10/site-packages (from altair<6.0,>=4.2.0->gradio) (4.16.0)\nCollecting toolz\n  Downloading toolz-0.12.0-py3-none-any.whl (55 kB)\n     ━━━━━━━━━━━━━━━━━━━━━━━━━━━━━━━━━━━━━━━━ 55.8/55.8 kB 15.3 MB/s eta 0:00:00\nRequirement already satisfied: tqdm>=4.42.1 in /local_disk0/.ephemeral_nfs/envs/pythonEnv-54970c6c-e7bc-4876-815b-e41a9250e594/lib/python3.10/site-packages (from huggingface-hub>=0.14.0->gradio) (4.66.1)\nRequirement already satisfied: filelock in /databricks/python3/lib/python3.10/site-packages (from huggingface-hub>=0.14.0->gradio) (3.6.0)\nRequirement already satisfied: cycler>=0.10 in /databricks/python3/lib/python3.10/site-packages (from matplotlib~=3.0->gradio) (0.11.0)\nRequirement already satisfied: python-dateutil>=2.7 in /databricks/python3/lib/python3.10/site-packages (from matplotlib~=3.0->gradio) (2.8.2)\nRequirement already satisfied: fonttools>=4.22.0 in /databricks/python3/lib/python3.10/site-packages (from matplotlib~=3.0->gradio) (4.25.0)\nRequirement already satisfied: pyparsing>=2.2.1 in /databricks/python3/lib/python3.10/site-packages (from matplotlib~=3.0->gradio) (3.0.9)\nRequirement already satisfied: kiwisolver>=1.0.1 in /databricks/python3/lib/python3.10/site-packages (from matplotlib~=3.0->gradio) (1.4.2)\nRequirement already satisfied: pytz>=2020.1 in /databricks/python3/lib/python3.10/site-packages (from pandas<3.0,>=1.0->gradio) (2022.1)\nCollecting annotated-types>=0.4.0\n  Downloading annotated_types-0.6.0-py3-none-any.whl (12 kB)\nCollecting pydantic-core==2.14.5\n  Downloading pydantic_core-2.14.5-cp310-cp310-manylinux_2_17_x86_64.manylinux2014_x86_64.whl (2.1 MB)\n     ━━━━━━━━━━━━━━━━━━━━━━━━━━━━━━━━━━━━━━━━ 2.1/2.1 MB 89.0 MB/s eta 0:00:00\nRequirement already satisfied: idna<4,>=2.5 in /databricks/python3/lib/python3.10/site-packages (from requests~=2.0->gradio) (3.3)\nRequirement already satisfied: urllib3<1.27,>=1.21.1 in /databricks/python3/lib/python3.10/site-packages (from requests~=2.0->gradio) (1.26.11)\nRequirement already satisfied: certifi>=2017.4.17 in /databricks/python3/lib/python3.10/site-packages (from requests~=2.0->gradio) (2022.9.14)\nRequirement already satisfied: charset-normalizer<3,>=2 in /databricks/python3/lib/python3.10/site-packages (from requests~=2.0->gradio) (2.0.4)\nRequirement already satisfied: click<9.0.0,>=7.1.1 in /databricks/python3/lib/python3.10/site-packages (from typer[all]<1.0,>=0.9->gradio) (8.0.4)\nCollecting colorama<0.5.0,>=0.4.3\n  Downloading colorama-0.4.6-py2.py3-none-any.whl (25 kB)\nCollecting rich<14.0.0,>=10.11.0\n  Downloading rich-13.7.0-py3-none-any.whl (240 kB)\n     ━━━━━━━━━━━━━━━━━━━━━━━━━━━━━━━━━━━━━━ 240.6/240.6 kB 48.4 MB/s eta 0:00:00\nCollecting shellingham<2.0.0,>=1.3.0\n  Downloading shellingham-1.5.4-py2.py3-none-any.whl (9.8 kB)\nRequirement already satisfied: h11>=0.8 in /local_disk0/.ephemeral_nfs/envs/pythonEnv-54970c6c-e7bc-4876-815b-e41a9250e594/lib/python3.10/site-packages (from uvicorn>=0.14.0->gradio) (0.14.0)\nRequirement already satisfied: starlette<0.28.0,>=0.27.0 in /local_disk0/.ephemeral_nfs/envs/pythonEnv-54970c6c-e7bc-4876-815b-e41a9250e594/lib/python3.10/site-packages (from fastapi->gradio) (0.27.0)\nRequirement already satisfied: anyio<4.0.0,>=3.7.1 in /local_disk0/.ephemeral_nfs/envs/pythonEnv-54970c6c-e7bc-4876-815b-e41a9250e594/lib/python3.10/site-packages (from fastapi->gradio) (3.7.1)\nRequirement already satisfied: sniffio in /local_disk0/.ephemeral_nfs/envs/pythonEnv-54970c6c-e7bc-4876-815b-e41a9250e594/lib/python3.10/site-packages (from httpx->gradio) (1.3.0)\nCollecting httpcore==1.*\n  Downloading httpcore-1.0.2-py3-none-any.whl (76 kB)\n     ━━━━━━━━━━━━━━━━━━━━━━━━━━━━━━━━━━━━━━━━ 76.9/76.9 kB 20.6 MB/s eta 0:00:00\nRequirement already satisfied: exceptiongroup in /local_disk0/.ephemeral_nfs/envs/pythonEnv-54970c6c-e7bc-4876-815b-e41a9250e594/lib/python3.10/site-packages (from anyio<4.0.0,>=3.7.1->fastapi->gradio) (1.2.0)\nRequirement already satisfied: pyrsistent!=0.17.0,!=0.17.1,!=0.17.2,>=0.14.0 in /databricks/python3/lib/python3.10/site-packages (from jsonschema>=3.0->altair<6.0,>=4.2.0->gradio) (0.18.0)\nRequirement already satisfied: attrs>=17.4.0 in /databricks/python3/lib/python3.10/site-packages (from jsonschema>=3.0->altair<6.0,>=4.2.0->gradio) (21.4.0)\nRequirement already satisfied: six>=1.5 in /usr/lib/python3/dist-packages (from python-dateutil>=2.7->matplotlib~=3.0->gradio) (1.16.0)\nCollecting pygments<3.0.0,>=2.13.0\n  Downloading pygments-2.17.2-py3-none-any.whl (1.2 MB)\n     ━━━━━━━━━━━━━━━━━━━━━━━━━━━━━━━━━━━━━━━━ 1.2/1.2 MB 88.1 MB/s eta 0:00:00\nCollecting markdown-it-py>=2.2.0\n  Downloading markdown_it_py-3.0.0-py3-none-any.whl (87 kB)\n     ━━━━━━━━━━━━━━━━━━━━━━━━━━━━━━━━━━━━━━━━ 87.5/87.5 kB 22.8 MB/s eta 0:00:00\nCollecting mdurl~=0.1\n  Downloading mdurl-0.1.2-py3-none-any.whl (10.0 kB)\nBuilding wheels for collected packages: ffmpy\n  Building wheel for ffmpy (setup.py): started\n  Building wheel for ffmpy (setup.py): finished with status 'done'\n  Created wheel for ffmpy: filename=ffmpy-0.3.1-py3-none-any.whl size=5579 sha256=10746295b4ae17723334417837565fb7dc473313e72f66660ea50f77e4999c69\n  Stored in directory: /root/.cache/pip/wheels/01/a6/d1/1c0828c304a4283b2c1639a09ad86f83d7c487ef34c6b4a1bf\nSuccessfully built ffmpy\nInstalling collected packages: pydub, ffmpy, websockets, toolz, tomlkit, shellingham, semantic-version, python-multipart, pygments, pydantic-core, orjson, mdurl, httpcore, colorama, annotated-types, aiofiles, pydantic, markdown-it-py, httpx, rich, gradio-client, altair, gradio\n  Attempting uninstall: websockets\n    Found existing installation: websockets 12.0\n    Uninstalling websockets-12.0:\n      Successfully uninstalled websockets-12.0\n  Attempting uninstall: pygments\n    Found existing installation: Pygments 2.11.2\n    Not uninstalling pygments at /databricks/python3/lib/python3.10/site-packages, outside environment /local_disk0/.ephemeral_nfs/envs/pythonEnv-54970c6c-e7bc-4876-815b-e41a9250e594\n    Can't uninstall 'Pygments'. No files were found to uninstall.\n  Attempting uninstall: pydantic\n    Found existing installation: pydantic 1.10.9\n    Uninstalling pydantic-1.10.9:\n      Successfully uninstalled pydantic-1.10.9\nERROR: pip's dependency resolver does not currently take into account all the packages that are installed. This behaviour is the source of the following dependency conflicts.\ndatabricks-feature-store 0.13.6 requires pyspark<4,>=3.1.2, which is not installed.\nydata-profiling 4.2.0 requires numpy<1.24,>=1.16.0, but you have numpy 1.26.2 which is incompatible.\nydata-profiling 4.2.0 requires pydantic<2,>=1.8.1, but you have pydantic 2.5.2 which is incompatible.\nthinc 8.1.10 requires pydantic!=1.8,!=1.8.1,<1.11.0,>=1.7.4, but you have pydantic 2.5.2 which is incompatible.\nspacy 3.5.3 requires pydantic!=1.8,!=1.8.1,<1.11.0,>=1.7.4, but you have pydantic 2.5.2 which is incompatible.\nspacy 3.5.3 requires typer<0.8.0,>=0.3.0, but you have typer 0.9.0 which is incompatible.\nconfection 0.0.4 requires pydantic!=1.8,!=1.8.1,<1.11.0,>=1.7.4, but you have pydantic 2.5.2 which is incompatible.\nSuccessfully installed aiofiles-23.2.1 altair-5.2.0 annotated-types-0.6.0 colorama-0.4.6 ffmpy-0.3.1 gradio-4.7.1 gradio-client-0.7.0 httpcore-1.0.2 httpx-0.25.2 markdown-it-py-3.0.0 mdurl-0.1.2 orjson-3.9.10 pydantic-2.5.2 pydantic-core-2.14.5 pydub-0.25.1 pygments-2.17.2 python-multipart-0.0.6 rich-13.7.0 semantic-version-2.10.0 shellingham-1.5.4 tomlkit-0.12.0 toolz-0.12.0 websockets-11.0.3\n\u001B[43mNote: you may need to restart the kernel using dbutils.library.restartPython() to use updated packages.\u001B[0m\n"
     ]
    },
    {
     "output_type": "display_data",
     "data": {
      "text/html": [
       "<style scoped>\n",
       "  .ansiout {\n",
       "    display: block;\n",
       "    unicode-bidi: embed;\n",
       "    white-space: pre-wrap;\n",
       "    word-wrap: break-word;\n",
       "    word-break: break-all;\n",
       "    font-family: \"Menlo\", \"Monaco\", \"Consolas\", \"Ubuntu Mono\", \"Source Code Pro\", monospace;\n",
       "    font-size: 13px;\n",
       "    color: #555;\n",
       "    margin-left: 4px;\n",
       "    line-height: 19px;\n",
       "  }\n",
       "</style>"
      ]
     },
     "metadata": {
      "application/vnd.databricks.v1+output": {
       "arguments": {},
       "data": "",
       "errorSummary": "",
       "errorTraceType": null,
       "metadata": {},
       "type": "ipynbError"
      }
     },
     "output_type": "display_data"
    }
   ],
   "source": [
    "%pip install mlflow\n",
    "#%pip install \"git+https://github.com/mlflow/mlflow.git@refs/pull/10420/merge\" lxml==4.9.3 transformers==4.30.2 langchain==0.0.342 databricks-vectorsearch==0.21\n",
    "%pip install --upgrade langchain\n",
    "%pip install faiss-cpu\n",
    "%pip install pydantic==1.10.9\n",
    "%pip install chromadb\n",
    "%pip install InstructorEmbedding\n",
    "%pip install gradio"
   ]
  },
  {
   "cell_type": "code",
   "execution_count": 0,
   "metadata": {
    "application/vnd.databricks.v1+cell": {
     "cellMetadata": {
      "byteLimit": 2048000,
      "rowLimit": 10000
     },
     "inputWidgets": {},
     "nuid": "9983f5dd-c68b-4e0b-9bbb-c3af50beeac9",
     "showTitle": false,
     "title": ""
    }
   },
   "outputs": [
    {
     "output_type": "display_data",
     "data": {
      "text/html": [
       "<style scoped>\n",
       "  .ansiout {\n",
       "    display: block;\n",
       "    unicode-bidi: embed;\n",
       "    white-space: pre-wrap;\n",
       "    word-wrap: break-word;\n",
       "    word-break: break-all;\n",
       "    font-family: \"Menlo\", \"Monaco\", \"Consolas\", \"Ubuntu Mono\", \"Source Code Pro\", monospace;\n",
       "    font-size: 13px;\n",
       "    color: #555;\n",
       "    margin-left: 4px;\n",
       "    line-height: 19px;\n",
       "  }\n",
       "</style>"
      ]
     },
     "metadata": {
      "application/vnd.databricks.v1+output": {
       "arguments": {},
       "data": "",
       "errorSummary": "",
       "errorTraceType": null,
       "metadata": {},
       "type": "ipynbError"
      }
     },
     "output_type": "display_data"
    }
   ],
   "source": [
    "dbutils.library.restartPython()"
   ]
  },
  {
   "cell_type": "code",
   "execution_count": 0,
   "metadata": {
    "application/vnd.databricks.v1+cell": {
     "cellMetadata": {
      "byteLimit": 2048000,
      "rowLimit": 10000
     },
     "inputWidgets": {},
     "nuid": "90ac5a77-a5bf-4480-8453-9c7002012177",
     "showTitle": false,
     "title": ""
    }
   },
   "outputs": [
    {
     "output_type": "display_data",
     "data": {
      "application/vnd.jupyter.widget-view+json": {
       "model_id": "dc94cc37bde94a6c9096247823f559ad",
       "version_major": 2,
       "version_minor": 0
      },
      "text/plain": [
       "Downloading .gitattributes:   0%|          | 0.00/1.48k [00:00<?, ?B/s]"
      ]
     },
     "metadata": {},
     "output_type": "display_data"
    },
    {
     "output_type": "display_data",
     "data": {
      "application/vnd.jupyter.widget-view+json": {
       "model_id": "55c021e3a8de4f40a69cc16039f16c1b",
       "version_major": 2,
       "version_minor": 0
      },
      "text/plain": [
       "Downloading 1_Pooling/config.json:   0%|          | 0.00/270 [00:00<?, ?B/s]"
      ]
     },
     "metadata": {},
     "output_type": "display_data"
    },
    {
     "output_type": "display_data",
     "data": {
      "application/vnd.jupyter.widget-view+json": {
       "model_id": "4183302981c84989b93fd89bbd5021d1",
       "version_major": 2,
       "version_minor": 0
      },
      "text/plain": [
       "Downloading 2_Dense/config.json:   0%|          | 0.00/116 [00:00<?, ?B/s]"
      ]
     },
     "metadata": {},
     "output_type": "display_data"
    },
    {
     "output_type": "display_data",
     "data": {
      "application/vnd.jupyter.widget-view+json": {
       "model_id": "8408bde8be38467bafc031db4b817def",
       "version_major": 2,
       "version_minor": 0
      },
      "text/plain": [
       "Downloading pytorch_model.bin:   0%|          | 0.00/3.15M [00:00<?, ?B/s]"
      ]
     },
     "metadata": {},
     "output_type": "display_data"
    },
    {
     "output_type": "display_data",
     "data": {
      "application/vnd.jupyter.widget-view+json": {
       "model_id": "7d79a3144a9449a6adc3e0014a73b1cc",
       "version_major": 2,
       "version_minor": 0
      },
      "text/plain": [
       "Downloading README.md:   0%|          | 0.00/66.3k [00:00<?, ?B/s]"
      ]
     },
     "metadata": {},
     "output_type": "display_data"
    },
    {
     "output_type": "display_data",
     "data": {
      "application/vnd.jupyter.widget-view+json": {
       "model_id": "03000cd8f63148269f6078c08481ab11",
       "version_major": 2,
       "version_minor": 0
      },
      "text/plain": [
       "Downloading config.json:   0%|          | 0.00/1.52k [00:00<?, ?B/s]"
      ]
     },
     "metadata": {},
     "output_type": "display_data"
    },
    {
     "output_type": "display_data",
     "data": {
      "application/vnd.jupyter.widget-view+json": {
       "model_id": "baefce77a57b4e5b8fab6ffc893d83a0",
       "version_major": 2,
       "version_minor": 0
      },
      "text/plain": [
       "Downloading (…)ce_transformers.json:   0%|          | 0.00/122 [00:00<?, ?B/s]"
      ]
     },
     "metadata": {},
     "output_type": "display_data"
    },
    {
     "output_type": "display_data",
     "data": {
      "application/vnd.jupyter.widget-view+json": {
       "model_id": "e4b707c4bb294e6f999f0ca35df5ab85",
       "version_major": 2,
       "version_minor": 0
      },
      "text/plain": [
       "Downloading pytorch_model.bin:   0%|          | 0.00/4.96G [00:00<?, ?B/s]"
      ]
     },
     "metadata": {},
     "output_type": "display_data"
    },
    {
     "output_type": "display_data",
     "data": {
      "application/vnd.jupyter.widget-view+json": {
       "model_id": "e85d83cc6c0149a3b4638f46dde953c7",
       "version_major": 2,
       "version_minor": 0
      },
      "text/plain": [
       "Downloading (…)nce_bert_config.json:   0%|          | 0.00/53.0 [00:00<?, ?B/s]"
      ]
     },
     "metadata": {},
     "output_type": "display_data"
    },
    {
     "output_type": "display_data",
     "data": {
      "application/vnd.jupyter.widget-view+json": {
       "model_id": "463d5ce04a02424b84e30f92861777f0",
       "version_major": 2,
       "version_minor": 0
      },
      "text/plain": [
       "Downloading (…)cial_tokens_map.json:   0%|          | 0.00/2.20k [00:00<?, ?B/s]"
      ]
     },
     "metadata": {},
     "output_type": "display_data"
    },
    {
     "output_type": "display_data",
     "data": {
      "application/vnd.jupyter.widget-view+json": {
       "model_id": "69b6bfce1b0b4067ae1ff4f753adeca9",
       "version_major": 2,
       "version_minor": 0
      },
      "text/plain": [
       "Downloading spiece.model:   0%|          | 0.00/792k [00:00<?, ?B/s]"
      ]
     },
     "metadata": {},
     "output_type": "display_data"
    },
    {
     "output_type": "display_data",
     "data": {
      "application/vnd.jupyter.widget-view+json": {
       "model_id": "fd18b52f41bc469abc060e2cd65363f9",
       "version_major": 2,
       "version_minor": 0
      },
      "text/plain": [
       "Downloading tokenizer.json:   0%|          | 0.00/2.42M [00:00<?, ?B/s]"
      ]
     },
     "metadata": {},
     "output_type": "display_data"
    },
    {
     "output_type": "display_data",
     "data": {
      "application/vnd.jupyter.widget-view+json": {
       "model_id": "90059111ca98401f9cee03be78078390",
       "version_major": 2,
       "version_minor": 0
      },
      "text/plain": [
       "Downloading tokenizer_config.json:   0%|          | 0.00/2.40k [00:00<?, ?B/s]"
      ]
     },
     "metadata": {},
     "output_type": "display_data"
    },
    {
     "output_type": "display_data",
     "data": {
      "application/vnd.jupyter.widget-view+json": {
       "model_id": "a625de80a68547728947dea00c12308e",
       "version_major": 2,
       "version_minor": 0
      },
      "text/plain": [
       "Downloading modules.json:   0%|          | 0.00/461 [00:00<?, ?B/s]"
      ]
     },
     "metadata": {},
     "output_type": "display_data"
    },
    {
     "output_type": "stream",
     "name": "stdout",
     "output_type": "stream",
     "text": [
      "load INSTRUCTOR_Transformer\nmax_seq_length  512\n"
     ]
    },
    {
     "output_type": "display_data",
     "data": {
      "text/html": [
       "<style scoped>\n",
       "  .ansiout {\n",
       "    display: block;\n",
       "    unicode-bidi: embed;\n",
       "    white-space: pre-wrap;\n",
       "    word-wrap: break-word;\n",
       "    word-break: break-all;\n",
       "    font-family: \"Menlo\", \"Monaco\", \"Consolas\", \"Ubuntu Mono\", \"Source Code Pro\", monospace;\n",
       "    font-size: 13px;\n",
       "    color: #555;\n",
       "    margin-left: 4px;\n",
       "    line-height: 19px;\n",
       "  }\n",
       "</style>"
      ]
     },
     "metadata": {
      "application/vnd.databricks.v1+output": {
       "arguments": {},
       "data": "",
       "errorSummary": "",
       "errorTraceType": null,
       "metadata": {},
       "type": "ipynbError"
      }
     },
     "output_type": "display_data"
    }
   ],
   "source": [
    "\n",
    "from langchain.embeddings import HuggingFaceInstructEmbeddings\n",
    "\n",
    "instructor_embeddings = HuggingFaceInstructEmbeddings(model_name=\"hkunlp/instructor-xl\", \n",
    "                                                      model_kwargs={\"device\": \"cuda\"})\n"
   ]
  },
  {
   "cell_type": "code",
   "execution_count": 0,
   "metadata": {
    "application/vnd.databricks.v1+cell": {
     "cellMetadata": {
      "byteLimit": 2048000,
      "rowLimit": 10000
     },
     "inputWidgets": {},
     "nuid": "659e03c3-6bd7-408b-a58b-be8edf172b16",
     "showTitle": false,
     "title": ""
    }
   },
   "outputs": [
    {
     "output_type": "display_data",
     "data": {
      "text/html": [
       "<style scoped>\n",
       "  .ansiout {\n",
       "    display: block;\n",
       "    unicode-bidi: embed;\n",
       "    white-space: pre-wrap;\n",
       "    word-wrap: break-word;\n",
       "    word-break: break-all;\n",
       "    font-family: \"Menlo\", \"Monaco\", \"Consolas\", \"Ubuntu Mono\", \"Source Code Pro\", monospace;\n",
       "    font-size: 13px;\n",
       "    color: #555;\n",
       "    margin-left: 4px;\n",
       "    line-height: 19px;\n",
       "  }\n",
       "</style>"
      ]
     },
     "metadata": {
      "application/vnd.databricks.v1+output": {
       "arguments": {},
       "data": "",
       "errorSummary": "",
       "errorTraceType": null,
       "metadata": {},
       "type": "ipynbError"
      }
     },
     "output_type": "display_data"
    }
   ],
   "source": [
    "from langchain.document_loaders.csv_loader import CSVLoader\n",
    "loader = CSVLoader(file_path=\"/Workspace/Users/shalu.tyagi@hdfcbank.com/DataforRAG_final1.csv\", encoding=\"utf-8\", csv_args={'delimiter': ','})\n",
    "data = loader.load()"
   ]
  },
  {
   "cell_type": "code",
   "execution_count": 0,
   "metadata": {
    "application/vnd.databricks.v1+cell": {
     "cellMetadata": {
      "byteLimit": 2048000,
      "rowLimit": 10000
     },
     "inputWidgets": {},
     "nuid": "91747111-8589-40c6-a06d-d8b92de7d474",
     "showTitle": false,
     "title": ""
    }
   },
   "outputs": [
    {
     "output_type": "display_data",
     "data": {
      "text/html": [
       "<style scoped>\n",
       "  .ansiout {\n",
       "    display: block;\n",
       "    unicode-bidi: embed;\n",
       "    white-space: pre-wrap;\n",
       "    word-wrap: break-word;\n",
       "    word-break: break-all;\n",
       "    font-family: \"Menlo\", \"Monaco\", \"Consolas\", \"Ubuntu Mono\", \"Source Code Pro\", monospace;\n",
       "    font-size: 13px;\n",
       "    color: #555;\n",
       "    margin-left: 4px;\n",
       "    line-height: 19px;\n",
       "  }\n",
       "</style>"
      ]
     },
     "metadata": {
      "application/vnd.databricks.v1+output": {
       "arguments": {},
       "data": "",
       "errorSummary": "",
       "errorTraceType": null,
       "metadata": {},
       "type": "ipynbError"
      }
     },
     "output_type": "display_data"
    }
   ],
   "source": [
    "from langchain.text_splitter import RecursiveCharacterTextSplitter\n",
    "#from langchain.text_splitter import CharacterTextSplitter\n",
    "text_splitter = RecursiveCharacterTextSplitter(chunk_size=500, chunk_overlap=0)\n",
    "text_chunks = text_splitter.split_documents(data)"
   ]
  },
  {
   "cell_type": "code",
   "execution_count": 0,
   "metadata": {
    "application/vnd.databricks.v1+cell": {
     "cellMetadata": {
      "byteLimit": 2048000,
      "rowLimit": 10000
     },
     "inputWidgets": {},
     "nuid": "2e38d6a1-9669-481e-9156-8b250a73b39d",
     "showTitle": false,
     "title": ""
    }
   },
   "outputs": [
    {
     "output_type": "execute_result",
     "data": {
      "text/plain": [
       "[Document(page_content='Instruction: How can I add a nominee for my NRO Savings Account?', metadata={'source': '/Workspace/Users/shalu.tyagi@hdfcbank.com/DataforRAG_final.csv', 'row': 0}),\n",
       " Document(page_content='response: If you hold NRO Account in single holding relationship then you can add nominee by logging into netbanking > Request > Add / Modify nominee. If you hold NRO Account in joint holding relationship, then please share DA1 form signed by all holders.You may download the form from our website (Visit www.hdfcbank.com/nri > Click on Forms Center > NRI > Service Related Forms) and you may also avail of our Mailbox facility to send your respective form.', metadata={'source': '/Workspace/Users/shalu.tyagi@hdfcbank.com/DataforRAG_final.csv', 'row': 0}),\n",
       " Document(page_content='Instruction: What is a personal loan?\\nresponse: A Personal Loan is a loan that can be availed for any personal purpose such as as home renovation, wedding, medical emergencies, travelling, debt repayments, bill payments and more.Unlike other loans, Personal Loan does not require any collateral or security and can be easily availed with minimum documentation.Like any other loan, you can repay Personal Loan with EMI (Equated Monthly Instalments); debited from your bank account.', metadata={'source': '/Workspace/Users/shalu.tyagi@hdfcbank.com/DataforRAG_final.csv', 'row': 1}),\n",
       " Document(page_content='Instruction: What are Market Transactions?\\nresponse: Market transactions are transactions that are executed on the floor of the exchange. In these transactions securities are transferred from a Beneficiary Account of an investor to a Clearing Member Account of a broker to ensure delivery of securities to the stock exchange and vice versa.', metadata={'source': '/Workspace/Users/shalu.tyagi@hdfcbank.com/DataforRAG_final.csv', 'row': 2}),\n",
       " Document(page_content=\"Instruction: What are Equity Capital Markets?\\nresponse: Equity Capital Market is the right option for your public or private organisation's equity financing needs, such as initial public offerings (IPOs), follow-on public offerings (FPOs), qualified institutional placements (QIPs), rights issues, private placements, block trades, pre-IPO placements and buybacks. HDFC gives holistic solutions under a single roof that can originate, structure and execute equity financings.\", metadata={'source': '/Workspace/Users/shalu.tyagi@hdfcbank.com/DataforRAG_final.csv', 'row': 3}),\n",
       " Document(page_content='Instruction: What is fixed deposite?\\nresponse: A Fixed Deposit is a type of investment option wherein a customer deposits a sum of money for a fixed term. The money cannot be withdrawn before the end of the chosen term. Because of this, fixed deposits offer higher interest rates than regular savings accounts and are considered a very safe investment. Fixed Deposit terms can vary from 7 days to 10 years, and the interest varies from 4 to 11 percent.', metadata={'source': '/Workspace/Users/shalu.tyagi@hdfcbank.com/DataforRAG_final.csv', 'row': 4}),\n",
       " Document(page_content='Instruction: What is an RFC Fixed Deposit?\\nresponse: A Resident Foreign Currency (RFC) Fixed Deposit can be opened by NRIs who have returned for permanent settlement after being resident outside India for a continuous period of not less than one year. This Deposit lets the holder enjoy the flexibility of converting foreign currency deposits into Indian rupees whenever required.', metadata={'source': '/Workspace/Users/shalu.tyagi@hdfcbank.com/DataforRAG_final.csv', 'row': 5}),\n",
       " Document(page_content='Instruction: Term periods of Fixed Deposit.\\nresponse: A Fixed Deposit can be opened for a minimum tenure of 7 days and a maximum tenure of 10 years.', metadata={'source': '/Workspace/Users/shalu.tyagi@hdfcbank.com/DataforRAG_final.csv', 'row': 6}),\n",
       " Document(page_content='Instruction: What are the benefits of Personal Loan?\\nresponse: Features and benefits of Personal Loan.Quick eligibility check and easy disbursal.Transfer loan balance with ease.Stay protected with personal accident cover.Personal loan security; and much more', metadata={'source': '/Workspace/Users/shalu.tyagi@hdfcbank.com/DataforRAG_final.csv', 'row': 7}),\n",
       " Document(page_content='Instruction: What are the benefits of a pre-approved personal loan?\\nresponse: The benefits of a pre-approved personal loan are:Instant funds,Competitive interest rates,Zero documentation,Online and paperless and Flexible repayment.', metadata={'source': '/Workspace/Users/shalu.tyagi@hdfcbank.com/DataforRAG_final.csv', 'row': 8}),\n",
       " Document(page_content='Instruction: What is Horticulture Loan?\\nresponse: Horticulture sector encompasses wide range of crops e.g. Fruit Crop, Vegetable crop, Ornamental crop, medicinal & aromatic crop, Spices & Plantation crop. The Bank extends finance to farmers for the activities relating to establishment/maintenance of nurseries, Orchards, Plantation crops, Poly house/Green house, Hi-tech farming etc.', metadata={'source': '/Workspace/Users/shalu.tyagi@hdfcbank.com/DataforRAG_final.csv', 'row': 9}),\n",
       " Document(page_content='Instruction: What is the tenure for Horticulture Loan?\\nresponse: The tenure for a Horticulture Loan is 5 years.', metadata={'source': '/Workspace/Users/shalu.tyagi@hdfcbank.com/DataforRAG_final.csv', 'row': 10}),\n",
       " Document(page_content='Instruction: Features and Benefits of Horticulture Loan.', metadata={'source': '/Workspace/Users/shalu.tyagi@hdfcbank.com/DataforRAG_final.csv', 'row': 11}),\n",
       " Document(page_content='response: The Horticulture Loan comes with features such as:Cash Credit/Over draft to meet crop production cost & expenses towards consumption, post-harvest expenses and repair & maintenance.Term Loan for investment purpose like purchase of farm implement, land development, irrigation equipment etc.Free Personal accidental insurance coverage of farmer, up to Rs. 2,00,000.Crop Insurance available for all notified crop under Prdhan Mantri Fasal Bima Yojana.Issuance of Rupay Farmer Platinum debit', metadata={'source': '/Workspace/Users/shalu.tyagi@hdfcbank.com/DataforRAG_final.csv', 'row': 11}),\n",
       " Document(page_content='card for hassle free transaction', metadata={'source': '/Workspace/Users/shalu.tyagi@hdfcbank.com/DataforRAG_final.csv', 'row': 11}),\n",
       " Document(page_content='Instruction: Documents needed for Gold Loan.', metadata={'source': '/Workspace/Users/shalu.tyagi@hdfcbank.com/DataforRAG_final.csv', 'row': 12}),\n",
       " Document(page_content=\"response: The following documents are required along with your Gold Loan application:Passport (not expired),Driving License (not expired),Voter's ID Card,Aadhaar Card issued by UIDAI,PAN (Permanent Account Number) Card (along with any of the above documents).Kindly Note: The loan is granted for agricultural / business / personal purposes. The loan amount cannot be used for the purchase of gold coins, jewels, land or other speculative purposes. Credit provided is at the absolute discretion of\", metadata={'source': '/Workspace/Users/shalu.tyagi@hdfcbank.com/DataforRAG_final.csv', 'row': 12}),\n",
       " Document(page_content='HDFC Bank.', metadata={'source': '/Workspace/Users/shalu.tyagi@hdfcbank.com/DataforRAG_final.csv', 'row': 12}),\n",
       " Document(page_content='Instruction: What is BHIM?\\nresponse: BHIM (Bharat Interface for Money) is a UPI app promoted by the National Payment Corporation of India (NPCI).', metadata={'source': '/Workspace/Users/shalu.tyagi@hdfcbank.com/DataforRAG_final.csv', 'row': 13}),\n",
       " Document(page_content='Instruction: What is a Credit Card?\\nresponse: Credit cards are a convenient substitute for cash or cheque, and an essential component of electronic commerce and internet commerce. Credit card holders draw on a credit limit approved by the bank. Cardholders normally must pay for credit card purchases within 30 days of purchase to avoid interest and/or penalties.', metadata={'source': '/Workspace/Users/shalu.tyagi@hdfcbank.com/DataforRAG_final.csv', 'row': 14}),\n",
       " Document(page_content=\"Instruction: How to get the best interest rate for a Fixed Deposit?\\nresponse: The interest rate on Fixed Deposits varies across tenures. First, check your bank's website for the interest rates on different tenures. Sometimes, extending your tenure by even a day could earn you a higher interest rate. Pick a tenure that offers you the best Fixed Deposit interest rate.\", metadata={'source': '/Workspace/Users/shalu.tyagi@hdfcbank.com/DataforRAG_final.csv', 'row': 15}),\n",
       " Document(page_content='Instruction: How can we get monthly interest on Fixed Deposits?', metadata={'source': '/Workspace/Users/shalu.tyagi@hdfcbank.com/DataforRAG_final.csv', 'row': 16}),\n",
       " Document(page_content='response: A Fixed Deposit is the sum of money you keep with a bank as a deposit for a fixed period of time against which the bank pays you a fixed rate of interest. You can pick the mode of interest payment.There are mainly two types of modes of receiving the interest. One is cumulative option where the interest is compounded on a quarterly, paid on the maturity of the FD/ autorenewed. The other is a non-cumulative option which is paid in the form of monthly interest or quarterly or on', metadata={'source': '/Workspace/Users/shalu.tyagi@hdfcbank.com/DataforRAG_final.csv', 'row': 16}),\n",
       " Document(page_content='maturity.', metadata={'source': '/Workspace/Users/shalu.tyagi@hdfcbank.com/DataforRAG_final.csv', 'row': 16}),\n",
       " Document(page_content='Instruction: How to avail EasyEMI?\\nresponse: You can avail EasyEMI through Debit or Credit cards and also through Consumer Loans.', metadata={'source': '/Workspace/Users/shalu.tyagi@hdfcbank.com/DataforRAG_final.csv', 'row': 17}),\n",
       " Document(page_content='Instruction: How can I get a credit score or credit report from HDFC Bank?\\nresponse: Please follow these simple steps to get a CIBIL report:Login to NetBanking.Select the transaction from Request section of Accounts tab, and consent to be redirected to CIBIL site.Verify your pre- filled details, and Confirm the Request.The Report will be dispatched on your Email ID, within few minutes.', metadata={'source': '/Workspace/Users/shalu.tyagi@hdfcbank.com/DataforRAG_final.csv', 'row': 18}),\n",
       " Document(page_content='Instruction: How to check your cibil score?', metadata={'source': '/Workspace/Users/shalu.tyagi@hdfcbank.com/DataforRAG_final.csv', 'row': 19}),\n",
       " Document(page_content='response: To check your cibil score:Go to the CIBIL website.Fill out the provided form that requires your necessary information such as name, contact number, email address and click continue.Fill out the additional details about you including your Pan number. Make sure to enter your Pan details correctly to proceed to the next step.Answer all the questions correctly about your loans and credit cards, based on which your CIBIL score will be calculated, and your completed credit report generated.', metadata={'source': '/Workspace/Users/shalu.tyagi@hdfcbank.com/DataforRAG_final.csv', 'row': 19}),\n",
       " Document(page_content=\"Instruction: How to improve your cibil score?\\nresponse: You can improve your score by practising financial prudence - repay your Credit Card bills on time, don't miss your loan EMIs, never default on debts, use credit wisely.\", metadata={'source': '/Workspace/Users/shalu.tyagi@hdfcbank.com/DataforRAG_final.csv', 'row': 20}),\n",
       " Document(page_content='Instruction: How can I get a forex card or a travel card from HDFC Bank?\\nresponse: No matter how you prefer to carry your foreign exchange when travelling, you can get it from us - from simple foreign currency notes to a multi-currency Forex Card. We offer Forex facilities through all HDFC Bank Branches. We offer services at competitive rates and charges.', metadata={'source': '/Workspace/Users/shalu.tyagi@hdfcbank.com/DataforRAG_final.csv', 'row': 21}),\n",
       " Document(page_content='Instruction: How can I get statements for my Forex Card?\\nresponse: You can view your Forex Card details online.Customers Migrated To New NetBanking:.Login to NetBanking.Go to Pay ----> Cards.Under Action Panel select Manage Prepaid Cards', metadata={'source': '/Workspace/Users/shalu.tyagi@hdfcbank.com/DataforRAG_final.csv', 'row': 22}),\n",
       " Document(page_content='Instruction: How does the ForexPlus Card work?', metadata={'source': '/Workspace/Users/shalu.tyagi@hdfcbank.com/DataforRAG_final.csv', 'row': 23}),\n",
       " Document(page_content='response: Your HDFC Bank ForexPlus card will be activated with the required currency within 4 hours from the bank getting the funds from you. Once active: The card can be used at any international location for making payments at POS terminals or to withdraw cash at ATMs. (Usage of the card is not allowed in India, Nepal and Bhutan.) .The card works just like any Debit / Credit Card for making payments at Merchant Establishments that have an electronic terminal. The transaction amount is', metadata={'source': '/Workspace/Users/shalu.tyagi@hdfcbank.com/DataforRAG_final.csv', 'row': 23}),\n",
       " Document(page_content='deducted from available balance on the ForexPlus card.The card cab be used at all Merchant Establishments/ATMs displaying the Visa / MasterCard symbol.Irrespective of the currency loaded on the card, the cash will be dispensed based on the currencies supported at the ATMs.Please ensure that you remember the PIN given to you with the card pack, the PIN is unique for every card and cannot be changed at any domestic or international ATM.', metadata={'source': '/Workspace/Users/shalu.tyagi@hdfcbank.com/DataforRAG_final.csv', 'row': 23}),\n",
       " Document(page_content='Instruction: Can a Minor open a Demat and Trading account?', metadata={'source': '/Workspace/Users/shalu.tyagi@hdfcbank.com/DataforRAG_final.csv', 'row': 24}),\n",
       " Document(page_content=\"response: Dmat account can be opened in the name of a Minor (Resident or Non-Resident) provided the savings account to be linked is also in Minor's name.Minor needs to hold Pan card number in his/her name for opening Demat account.Trading Account cannot be opened for minors. However, Individual Demat account form & documentation will be signed by Guardian who can be one of the natural parent (as per SB account opened) or Legal Guardian appointed.Demat Account will be opened in Minors name only\", metadata={'source': '/Workspace/Users/shalu.tyagi@hdfcbank.com/DataforRAG_final.csv', 'row': 24}),\n",
       " Document(page_content='but all documents like PAN card & OVD needs to be submitted for both Minor & Guardian (self-attested).', metadata={'source': '/Workspace/Users/shalu.tyagi@hdfcbank.com/DataforRAG_final.csv', 'row': 24}),\n",
       " Document(page_content='Instruction: How to maximize your Savings Account interest rates?', metadata={'source': '/Workspace/Users/shalu.tyagi@hdfcbank.com/DataforRAG_final.csv', 'row': 25}),\n",
       " Document(page_content='response: Here are 3 ways of how you can maximize your Savings Account interest rates:Ways to maintain average monthly balance: By adjusting the amount kept in the Savings Account, so that it averages to the minimum monthly balance is enough to avoid any penalties from the bank.Open specific Savings Accounts: Some types of Savings Accounts are Kids Savings Accounts, Senior Citizen Savings Accounts, Youth Savings Accounts amongst many others. These accounts have a higher interest rate and they', metadata={'source': '/Workspace/Users/shalu.tyagi@hdfcbank.com/DataforRAG_final.csv', 'row': 25}),\n",
       " Document(page_content='also offer other benefits at the same time.Opt for Sweep In facility: In case of fund requirements, the bank automatically liquidates the Fixed Deposit to meet the fund requirements. Otherwise, the excess funds earn interest at Fixed Deposit rates.', metadata={'source': '/Workspace/Users/shalu.tyagi@hdfcbank.com/DataforRAG_final.csv', 'row': 25}),\n",
       " Document(page_content='Instruction: What are the documents required to open a savings account with HDFC Bank?\\nresponse: Carry originals and self attested copies of the following documents while opening a new savings account: Identity Proof,Address Proof and Latest passport size photographs', metadata={'source': '/Workspace/Users/shalu.tyagi@hdfcbank.com/DataforRAG_final.csv', 'row': 26}),\n",
       " Document(page_content=\"Instruction: What are the types of savings accounts offered by HDFC Bank?\\nresponse: Here are the types of Savings Accounts offered by HDFC Bank:Regular Savings Account,Savings Max Account,Women's Savings Account,Senior Citizens Account,DigiSave Youth Account,Family Savings Group Account and Basic Savings Bank Deposit Account.\", metadata={'source': '/Workspace/Users/shalu.tyagi@hdfcbank.com/DataforRAG_final.csv', 'row': 27}),\n",
       " Document(page_content='Instruction: How can I close my savings account with HDFC Bank?', metadata={'source': '/Workspace/Users/shalu.tyagi@hdfcbank.com/DataforRAG_final.csv', 'row': 28}),\n",
       " Document(page_content='response: It is sad to see you go. We request you to reconsider your decision to close the account. In case you still wish to close your account here is the process:Get an account closure form from any of our branches. Kindly submit the filled account closure form at your nearest HDFC Bank branch duly signed by all Joint Holders in the same order of names as appearing on the account to be closed. If the account has a debit balance, please fund the account to the extent of the debit amount', metadata={'source': '/Workspace/Users/shalu.tyagi@hdfcbank.com/DataforRAG_final.csv', 'row': 28}),\n",
       " Document(page_content='together with interest, before you submit your closure application. If the account is dormant, please submit a letter at the branch to activate your account. Your account closure request can be processed only after it has been re-activated. Important: We regret that we are unable to process any request to close your account that has been received through PhoneBanking, NetBanking, Email, scanned or faxed copy for security and authentication purposes. In case you are unable to visit the branch,', metadata={'source': '/Workspace/Users/shalu.tyagi@hdfcbank.com/DataforRAG_final.csv', 'row': 28}),\n",
       " Document(page_content='you can send your application to close your account to the branch by postal service or courier. Things to keep in mind while surrendering an account: We request you to destroy or surrender the cheque book and debit card when your account has been closed. If your account is linked to any other product such as a Credit Card/online Mutual Funds, etc., we request you to close/de-link that account prior to submitting instructions to close your account. We look forward to the opportunity to serve you', metadata={'source': '/Workspace/Users/shalu.tyagi@hdfcbank.com/DataforRAG_final.csv', 'row': 28}),\n",
       " Document(page_content='in the future, as well.', metadata={'source': '/Workspace/Users/shalu.tyagi@hdfcbank.com/DataforRAG_final.csv', 'row': 28}),\n",
       " Document(page_content='Instruction: How can I add applicant to a Savings Account?', metadata={'source': '/Workspace/Users/shalu.tyagi@hdfcbank.com/DataforRAG_final.csv', 'row': 29}),\n",
       " Document(page_content='response: To add an applicant to your Savings Account, kindly follow the steps below:Submit a letter to the branch specifying that you would like to add another applicant to your existing account (mention the name of the applicant in the letter) and sign the letter (all existing applicants must sign).Submit a completely filled fresh account opening form available at all HDFC Bank branches. The account opening form should contain a photograph of new applicant (to be added in existing', metadata={'source': '/Workspace/Users/shalu.tyagi@hdfcbank.com/DataforRAG_final.csv', 'row': 29}),\n",
       " Document(page_content='account).The account opening form should contain specimen signatures of all existing applicants, including the new applicant (to be added in existing account).Submit a proof of identification of the new applicant (provided the applicant does not have any other account with Bank).Submit an address proof of the new applicant', metadata={'source': '/Workspace/Users/shalu.tyagi@hdfcbank.com/DataforRAG_final.csv', 'row': 29}),\n",
       " Document(page_content='Instruction: How can I open a fixed deposit or FD with HDFC Bank?', metadata={'source': '/Workspace/Users/shalu.tyagi@hdfcbank.com/DataforRAG_final.csv', 'row': 30}),\n",
       " Document(page_content=\"response: Customers Not Migrated To New NetBanking: Login to Netbanking. Under the Accounts Tab select 'Transact'. Click on the option 'Open Fixed Deposit < Rs 5 cr'.Fill in the details required and click on 'Continue' and then 'Confirm'.Customers Migrated To New NetBanking.On your NetBanking login page, under Quick Links, click on Open FD.Alternatively, login to NetBanking ---> Save ---> Deposits ---> Actions ---> Open Fixed Deposit.Please note that you can book an FD through Netbanking\", metadata={'source': '/Workspace/Users/shalu.tyagi@hdfcbank.com/DataforRAG_final.csv', 'row': 30}),\n",
       " Document(page_content='provided:', metadata={'source': '/Workspace/Users/shalu.tyagi@hdfcbank.com/DataforRAG_final.csv', 'row': 30}),\n",
       " Document(page_content='Instruction: What is a Fixed Deposit receipt?\\nresponse: FDR or FDA is a piece of document provided to a Fixed Deposit holder on opening an FD account. This half a page document is an important record of all the details of your Fixed Deposit and details of the FD holder.It is a proof of ownership for the FD holder or holders. It also documents the nature of your FD like if it is one that allows auto renewal and auto closure or whether there are nominations or not.', metadata={'source': '/Workspace/Users/shalu.tyagi@hdfcbank.com/DataforRAG_final.csv', 'row': 31}),\n",
       " Document(page_content='Instruction: What is a personal loan?\\nresponse: FDR or FDA is a piece of document provided to a Fixed Deposit holder on opening an FD account. This half a page document is an important record of all the details of your Fixed Deposit and details of the FD holder.It is a proof of ownership for the FD holder or holders. It also documents the nature of your FD like if it is one that allows auto renewal and auto closure or whether there are nominations or not.', metadata={'source': '/Workspace/Users/shalu.tyagi@hdfcbank.com/DataforRAG_final.csv', 'row': 32}),\n",
       " Document(page_content='Instruction: How is the Personal Loan interest rate calculated?\\nresponse: Interest on Personal Loan depends on various factors such as CIBIL score, Repayment History, Principal amount, Tenure.', metadata={'source': '/Workspace/Users/shalu.tyagi@hdfcbank.com/DataforRAG_final.csv', 'row': 33}),\n",
       " Document(page_content='Instruction: How to use the Mobile Banking App?\\nresponse: To use mobile banking, all you need to do is:Download the MobileBanking application from the App/Play Store. You need to use your NetBanking login id and password to access the account or set up a 4-Digit Login Pin', metadata={'source': '/Workspace/Users/shalu.tyagi@hdfcbank.com/DataforRAG_final.csv', 'row': 34}),\n",
       " Document(page_content='Instruction: How to use the Mobile Banking App?\\nresponse: To use mobile banking, all you need to do is: Download the MobileBanking application from the App/Play Store. You need to use your NetBanking login id and password to access the account or set up a 4-Digit Login Pin', metadata={'source': '/Workspace/Users/shalu.tyagi@hdfcbank.com/DataforRAG_final.csv', 'row': 35}),\n",
       " Document(page_content=\"Instruction: What is a savings account?\\nresponse: A Savings Account, by definition, allows you to deposit your money, safe with the bank, so you don't have to carry it around with you or hide it in that rusted old steel safe at home. Don't worry, you can withdraw these funds when you need them.\", metadata={'source': '/Workspace/Users/shalu.tyagi@hdfcbank.com/DataforRAG_final.csv', 'row': 36}),\n",
       " Document(page_content='Instruction: What is the current interest rate of HDFC Bank?\\nresponse: \"The interest rate on HDFC Bank\\'s fixed deposits varies depending on the amount of your deposit, the deposit period and the type of account holder (individual, senior citizen etc.). And for today, what is the interest rate on HDFC Bank\\'s fixed deposits for you? Is?\\nAs of [current date], here are the current interest rates offered by HDFC Bank on its fixed deposits:', metadata={'source': '/Workspace/Users/shalu.tyagi@hdfcbank.com/DataforRAG_final.csv', 'row': 37}),\n",
       " Document(page_content='For deposits up to ₹1 crore, interest rates range from 3.50% to 7.00% per annum depending on the deposit tenure and type of account holder.For deposits above Rs 1 crore, interest rates range from 3.75% to 7.25% per annum, depending on the deposit tenure and type of account holder. Please note that these interest rates are subject to change and are dependent on market conditions and other May vary depending on factors. It is always a good idea to check the current interest rates and terms', metadata={'source': '/Workspace/Users/shalu.tyagi@hdfcbank.com/DataforRAG_final.csv', 'row': 37}),\n",
       " Document(page_content='offered by HDFC Bank before investing in a fixed deposit.', metadata={'source': '/Workspace/Users/shalu.tyagi@hdfcbank.com/DataforRAG_final.csv', 'row': 37}),\n",
       " Document(page_content='Instruction: What is the customer care number of HDFC Bank?\\nresponse: HDFC Bank customer care number is 1800 22 1006. This number is available 24/7 and provides assistance for customer related queries.\\nApart from this, HDFC Bank customer care number is also available through mobile app and net banking platform.\\nMobile App:\\nDownload HDFC Bank mobile app from Google Play Store or Apple App Store.\\nRegister mobile number and login.', metadata={'source': '/Workspace/Users/shalu.tyagi@hdfcbank.com/DataforRAG_final.csv', 'row': 38}),\n",
       " Document(page_content='Click \"\"Help\"\" section and select \"\"Contact Us\"\" for customer care number.\\nNet Banking:\\nLogin to HDFC Bank Net Banking account.\\nClick \"\"Help\"\" section and select \"\"Contact Us\"\" for customer care number.', metadata={'source': '/Workspace/Users/shalu.tyagi@hdfcbank.com/DataforRAG_final.csv', 'row': 38}),\n",
       " Document(page_content='Instruction: Which are the best colleges for engineering?\\nresponse: Indian Institutes of Technology (IITs): IITs are considered premier engineering institutes in India and are known for their academic excellence, research facilities and placement opportunities. There are 23 IITs located in different parts of the country, and they offer different branches of engineering.', metadata={'source': '/Workspace/Users/shalu.tyagi@hdfcbank.com/DataforRAG_final.csv', 'row': 39}),\n",
       " Document(page_content='National Institute of Technology (NIT): NITs are also known for their high quality engineering education and are considered among the best engineering colleges in India. There are 31 NITs located in different parts of the country, and they offer various branches of engineering.', metadata={'source': '/Workspace/Users/shalu.tyagi@hdfcbank.com/DataforRAG_final.csv', 'row': 39}),\n",
       " Document(page_content='Birla Institute of Technology and Science (BITS): BITS is a private engineering institute known for its academic excellence and research facilities. It has campuses in Pilani, Goa and Hyderabad, and offers various branches of engineering.', metadata={'source': '/Workspace/Users/shalu.tyagi@hdfcbank.com/DataforRAG_final.csv', 'row': 39}),\n",
       " Document(page_content='Instruction: What is a pasta recipe\\nresponse: Ingredients:\\n12 oz spaghetti\\n2 cups tomato sauce (homemade or store-bought)\\n1/4 cup grated Parmesan cheese\\n1/4 cup chopped fresh basil\\nSalt and pepper to taste\\nInstructions:\\nBring a large pot of salted water to a boil. Cook the spaghetti according to package instructions until al dente. Reserve 1 cup of pasta water before draining.\\nIn a large skillet, heat the tomato sauce over medium heat.', metadata={'source': '/Workspace/Users/shalu.tyagi@hdfcbank.com/DataforRAG_final.csv', 'row': 40}),\n",
       " Document(page_content='Add the cooked spaghetti to the skillet with the tomato sauce and toss to combine.\\nSeason with salt and pepper to taste.\\nSprinkle the grated Parmesan cheese and chopped basil over the pasta and toss again to combine.\\nServe immediately, garnished with additional basil leaves if desired.\\nEnjoy your delicious and simple pasta dish!', metadata={'source': '/Workspace/Users/shalu.tyagi@hdfcbank.com/DataforRAG_final.csv', 'row': 40})]"
      ]
     },
     "execution_count": 4,
     "metadata": {},
     "output_type": "execute_result"
    },
    {
     "output_type": "display_data",
     "data": {
      "text/html": [
       "<style scoped>\n",
       "  .ansiout {\n",
       "    display: block;\n",
       "    unicode-bidi: embed;\n",
       "    white-space: pre-wrap;\n",
       "    word-wrap: break-word;\n",
       "    word-break: break-all;\n",
       "    font-family: \"Menlo\", \"Monaco\", \"Consolas\", \"Ubuntu Mono\", \"Source Code Pro\", monospace;\n",
       "    font-size: 13px;\n",
       "    color: #555;\n",
       "    margin-left: 4px;\n",
       "    line-height: 19px;\n",
       "  }\n",
       "</style>"
      ]
     },
     "metadata": {
      "application/vnd.databricks.v1+output": {
       "arguments": {},
       "data": "",
       "errorSummary": "",
       "errorTraceType": null,
       "metadata": {},
       "type": "ipynbError"
      }
     },
     "output_type": "display_data"
    }
   ],
   "source": [
    "text_chunks"
   ]
  },
  {
   "cell_type": "code",
   "execution_count": 0,
   "metadata": {
    "application/vnd.databricks.v1+cell": {
     "cellMetadata": {
      "byteLimit": 2048000,
      "rowLimit": 10000
     },
     "inputWidgets": {},
     "nuid": "2d683b65-d1af-44b4-980e-2ea9a7e495a9",
     "showTitle": false,
     "title": ""
    }
   },
   "outputs": [],
   "source": [
    "# Embed and store the texts\n",
    "# Supplying a persist_directory will store the embeddings on disk\n",
    "from langchain.vectorstores import Chroma\n",
    "persist_directory = 'db'\n",
    "\n",
    "## Here is the nmew embeddings being used\n",
    "embedding = instructor_embeddings\n",
    "\n",
    "vectordb = Chroma.from_documents(documents=text_chunks, \n",
    "                                 embedding=embedding,\n",
    "                                 persist_directory=persist_directory)\n",
    "\n",
    "\n",
    "# persiste the db to disk\n",
    "vectordb.persist()\n",
    "vectordb = None\n",
    "\n",
    "# Now we can load the persisted database from disk, and use it as normal. \n",
    "vectordb = Chroma(persist_directory=persist_directory, \n",
    "                  embedding_function=embedding)\n",
    "\n"
   ]
  },
  {
   "cell_type": "code",
   "execution_count": 0,
   "metadata": {
    "application/vnd.databricks.v1+cell": {
     "cellMetadata": {
      "byteLimit": 2048000,
      "rowLimit": 10000
     },
     "inputWidgets": {},
     "nuid": "40b734c9-7699-4d52-aa9b-4a0c940cdeb9",
     "showTitle": false,
     "title": ""
    }
   },
   "outputs": [
    {
     "output_type": "stream",
     "name": "stderr",
     "output_type": "stream",
     "text": [
      "<command-2901883420740584>:7: FutureWarning: MLflow AI gateway is deprecated and has been replaced by the deployments API for generative AI. See https://mlflow.org/docs/latest/llms/gateway/deprecation.html for more details.\n  set_gateway_uri(\"databricks\")\n/local_disk0/.ephemeral_nfs/envs/pythonEnv-54970c6c-e7bc-4876-815b-e41a9250e594/lib/python3.10/site-packages/langchain/llms/mlflow_ai_gateway.py:64: FutureWarning: MLflow AI gateway is deprecated and has been replaced by the deployments API for generative AI. See https://mlflow.org/docs/latest/llms/gateway/deprecation.html for more details.\n  mlflow.gateway.set_gateway_uri(self.gateway_uri)\n"
     ]
    },
    {
     "output_type": "stream",
     "name": "stdout",
     "output_type": "stream",
     "text": [
      "Running on local URL:  http://127.0.0.1:7860\nRunning on public URL: https://f561d3857f541419b7.gradio.live\n\nThis share link expires in 72 hours. For free permanent hosting and GPU upgrades, run `gradio deploy` from Terminal to deploy to Spaces (https://huggingface.co/spaces)\n"
     ]
    },
    {
     "output_type": "stream",
     "name": "stderr",
     "output_type": "stream",
     "text": [
      "<command-2901883420740584>:63: FutureWarning: MLflow AI gateway is deprecated and has been replaced by the deployments API for generative AI. See https://mlflow.org/docs/latest/llms/gateway/deprecation.html for more details.\n  delete_route(\"text1\")\n/local_disk0/.ephemeral_nfs/envs/pythonEnv-54970c6c-e7bc-4876-815b-e41a9250e594/lib/python3.10/site-packages/mlflow/gateway/fluent.py:129: FutureWarning: MLflow AI gateway is deprecated and has been replaced by the deployments API for generative AI. See https://mlflow.org/docs/latest/llms/gateway/deprecation.html for more details.\n  MlflowGatewayClient().delete_route(name)\n/local_disk0/.ephemeral_nfs/envs/pythonEnv-54970c6c-e7bc-4876-815b-e41a9250e594/lib/python3.10/site-packages/mlflow/gateway/client.py:44: FutureWarning: MLflow AI gateway is deprecated and has been replaced by the deployments API for generative AI. See https://mlflow.org/docs/latest/llms/gateway/deprecation.html for more details.\n  self._gateway_uri = gateway_uri or get_gateway_uri()\n<command-2901883420740584>:31: FutureWarning: MLflow AI gateway is deprecated and has been replaced by the deployments API for generative AI. See https://mlflow.org/docs/latest/llms/gateway/deprecation.html for more details.\n  create_route(\n/local_disk0/.ephemeral_nfs/envs/pythonEnv-54970c6c-e7bc-4876-815b-e41a9250e594/lib/python3.10/site-packages/mlflow/gateway/fluent.py:102: FutureWarning: MLflow AI gateway is deprecated and has been replaced by the deployments API for generative AI. See https://mlflow.org/docs/latest/llms/gateway/deprecation.html for more details.\n  return MlflowGatewayClient().create_route(name, route_type, model)\n<command-2901883420740584>:43: FutureWarning: MLflow AI gateway is deprecated and has been replaced by the deployments API for generative AI. See https://mlflow.org/docs/latest/llms/gateway/deprecation.html for more details.\n  response1 = query(\n/local_disk0/.ephemeral_nfs/envs/pythonEnv-54970c6c-e7bc-4876-815b-e41a9250e594/lib/python3.10/site-packages/mlflow/gateway/fluent.py:247: FutureWarning: MLflow AI gateway is deprecated and has been replaced by the deployments API for generative AI. See https://mlflow.org/docs/latest/llms/gateway/deprecation.html for more details.\n  return MlflowGatewayClient().query(route, data)\n/local_disk0/.ephemeral_nfs/envs/pythonEnv-54970c6c-e7bc-4876-815b-e41a9250e594/lib/python3.10/site-packages/langchain/llms/mlflow_ai_gateway.py:100: FutureWarning: MLflow AI gateway is deprecated and has been replaced by the deployments API for generative AI. See https://mlflow.org/docs/latest/llms/gateway/deprecation.html for more details.\n  resp = mlflow.gateway.query(self.route, data=data)\n/local_disk0/.ephemeral_nfs/envs/pythonEnv-54970c6c-e7bc-4876-815b-e41a9250e594/lib/python3.10/site-packages/mlflow/gateway/fluent.py:247: FutureWarning: MLflow AI gateway is deprecated and has been replaced by the deployments API for generative AI. See https://mlflow.org/docs/latest/llms/gateway/deprecation.html for more details.\n  return MlflowGatewayClient().query(route, data)\n/local_disk0/.ephemeral_nfs/envs/pythonEnv-54970c6c-e7bc-4876-815b-e41a9250e594/lib/python3.10/site-packages/mlflow/gateway/client.py:44: FutureWarning: MLflow AI gateway is deprecated and has been replaced by the deployments API for generative AI. See https://mlflow.org/docs/latest/llms/gateway/deprecation.html for more details.\n  self._gateway_uri = gateway_uri or get_gateway_uri()\n<command-2901883420740584>:68: FutureWarning: MLflow AI gateway is deprecated and has been replaced by the deployments API for generative AI. See https://mlflow.org/docs/latest/llms/gateway/deprecation.html for more details.\n  delete_route(\"text2\")\n/local_disk0/.ephemeral_nfs/envs/pythonEnv-54970c6c-e7bc-4876-815b-e41a9250e594/lib/python3.10/site-packages/mlflow/gateway/fluent.py:129: FutureWarning: MLflow AI gateway is deprecated and has been replaced by the deployments API for generative AI. See https://mlflow.org/docs/latest/llms/gateway/deprecation.html for more details.\n  MlflowGatewayClient().delete_route(name)\n<command-2901883420740584>:31: FutureWarning: MLflow AI gateway is deprecated and has been replaced by the deployments API for generative AI. See https://mlflow.org/docs/latest/llms/gateway/deprecation.html for more details.\n  create_route(\n/local_disk0/.ephemeral_nfs/envs/pythonEnv-54970c6c-e7bc-4876-815b-e41a9250e594/lib/python3.10/site-packages/mlflow/gateway/fluent.py:102: FutureWarning: MLflow AI gateway is deprecated and has been replaced by the deployments API for generative AI. See https://mlflow.org/docs/latest/llms/gateway/deprecation.html for more details.\n  return MlflowGatewayClient().create_route(name, route_type, model)\n<command-2901883420740584>:43: FutureWarning: MLflow AI gateway is deprecated and has been replaced by the deployments API for generative AI. See https://mlflow.org/docs/latest/llms/gateway/deprecation.html for more details.\n  response1 = query(\n<command-2901883420740584>:63: FutureWarning: MLflow AI gateway is deprecated and has been replaced by the deployments API for generative AI. See https://mlflow.org/docs/latest/llms/gateway/deprecation.html for more details.\n  delete_route(\"text1\")\n/local_disk0/.ephemeral_nfs/envs/pythonEnv-54970c6c-e7bc-4876-815b-e41a9250e594/lib/python3.10/site-packages/langchain/llms/mlflow_ai_gateway.py:100: FutureWarning: MLflow AI gateway is deprecated and has been replaced by the deployments API for generative AI. See https://mlflow.org/docs/latest/llms/gateway/deprecation.html for more details.\n  resp = mlflow.gateway.query(self.route, data=data)\n/local_disk0/.ephemeral_nfs/envs/pythonEnv-54970c6c-e7bc-4876-815b-e41a9250e594/lib/python3.10/site-packages/mlflow/gateway/fluent.py:247: FutureWarning: MLflow AI gateway is deprecated and has been replaced by the deployments API for generative AI. See https://mlflow.org/docs/latest/llms/gateway/deprecation.html for more details.\n  return MlflowGatewayClient().query(route, data)\n/local_disk0/.ephemeral_nfs/envs/pythonEnv-54970c6c-e7bc-4876-815b-e41a9250e594/lib/python3.10/site-packages/mlflow/gateway/client.py:44: FutureWarning: MLflow AI gateway is deprecated and has been replaced by the deployments API for generative AI. See https://mlflow.org/docs/latest/llms/gateway/deprecation.html for more details.\n  self._gateway_uri = gateway_uri or get_gateway_uri()\n<command-2901883420740584>:68: FutureWarning: MLflow AI gateway is deprecated and has been replaced by the deployments API for generative AI. See https://mlflow.org/docs/latest/llms/gateway/deprecation.html for more details.\n  delete_route(\"text2\")\n/local_disk0/.ephemeral_nfs/envs/pythonEnv-54970c6c-e7bc-4876-815b-e41a9250e594/lib/python3.10/site-packages/mlflow/gateway/fluent.py:129: FutureWarning: MLflow AI gateway is deprecated and has been replaced by the deployments API for generative AI. See https://mlflow.org/docs/latest/llms/gateway/deprecation.html for more details.\n  MlflowGatewayClient().delete_route(name)\n<command-2901883420740584>:31: FutureWarning: MLflow AI gateway is deprecated and has been replaced by the deployments API for generative AI. See https://mlflow.org/docs/latest/llms/gateway/deprecation.html for more details.\n  create_route(\n/local_disk0/.ephemeral_nfs/envs/pythonEnv-54970c6c-e7bc-4876-815b-e41a9250e594/lib/python3.10/site-packages/mlflow/gateway/fluent.py:102: FutureWarning: MLflow AI gateway is deprecated and has been replaced by the deployments API for generative AI. See https://mlflow.org/docs/latest/llms/gateway/deprecation.html for more details.\n  return MlflowGatewayClient().create_route(name, route_type, model)\n<command-2901883420740584>:43: FutureWarning: MLflow AI gateway is deprecated and has been replaced by the deployments API for generative AI. See https://mlflow.org/docs/latest/llms/gateway/deprecation.html for more details.\n  response1 = query(\n<command-2901883420740584>:63: FutureWarning: MLflow AI gateway is deprecated and has been replaced by the deployments API for generative AI. See https://mlflow.org/docs/latest/llms/gateway/deprecation.html for more details.\n  delete_route(\"text1\")\n/local_disk0/.ephemeral_nfs/envs/pythonEnv-54970c6c-e7bc-4876-815b-e41a9250e594/lib/python3.10/site-packages/langchain/llms/mlflow_ai_gateway.py:100: FutureWarning: MLflow AI gateway is deprecated and has been replaced by the deployments API for generative AI. See https://mlflow.org/docs/latest/llms/gateway/deprecation.html for more details.\n  resp = mlflow.gateway.query(self.route, data=data)\n/local_disk0/.ephemeral_nfs/envs/pythonEnv-54970c6c-e7bc-4876-815b-e41a9250e594/lib/python3.10/site-packages/mlflow/gateway/fluent.py:247: FutureWarning: MLflow AI gateway is deprecated and has been replaced by the deployments API for generative AI. See https://mlflow.org/docs/latest/llms/gateway/deprecation.html for more details.\n  return MlflowGatewayClient().query(route, data)\n/local_disk0/.ephemeral_nfs/envs/pythonEnv-54970c6c-e7bc-4876-815b-e41a9250e594/lib/python3.10/site-packages/mlflow/gateway/client.py:44: FutureWarning: MLflow AI gateway is deprecated and has been replaced by the deployments API for generative AI. See https://mlflow.org/docs/latest/llms/gateway/deprecation.html for more details.\n  self._gateway_uri = gateway_uri or get_gateway_uri()\n<command-2901883420740584>:68: FutureWarning: MLflow AI gateway is deprecated and has been replaced by the deployments API for generative AI. See https://mlflow.org/docs/latest/llms/gateway/deprecation.html for more details.\n  delete_route(\"text2\")\n/local_disk0/.ephemeral_nfs/envs/pythonEnv-54970c6c-e7bc-4876-815b-e41a9250e594/lib/python3.10/site-packages/mlflow/gateway/fluent.py:129: FutureWarning: MLflow AI gateway is deprecated and has been replaced by the deployments API for generative AI. See https://mlflow.org/docs/latest/llms/gateway/deprecation.html for more details.\n  MlflowGatewayClient().delete_route(name)\n<command-2901883420740584>:31: FutureWarning: MLflow AI gateway is deprecated and has been replaced by the deployments API for generative AI. See https://mlflow.org/docs/latest/llms/gateway/deprecation.html for more details.\n  create_route(\n/local_disk0/.ephemeral_nfs/envs/pythonEnv-54970c6c-e7bc-4876-815b-e41a9250e594/lib/python3.10/site-packages/mlflow/gateway/fluent.py:102: FutureWarning: MLflow AI gateway is deprecated and has been replaced by the deployments API for generative AI. See https://mlflow.org/docs/latest/llms/gateway/deprecation.html for more details.\n  return MlflowGatewayClient().create_route(name, route_type, model)\n<command-2901883420740584>:43: FutureWarning: MLflow AI gateway is deprecated and has been replaced by the deployments API for generative AI. See https://mlflow.org/docs/latest/llms/gateway/deprecation.html for more details.\n  response1 = query(\n<command-2901883420740584>:63: FutureWarning: MLflow AI gateway is deprecated and has been replaced by the deployments API for generative AI. See https://mlflow.org/docs/latest/llms/gateway/deprecation.html for more details.\n  delete_route(\"text1\")\n/local_disk0/.ephemeral_nfs/envs/pythonEnv-54970c6c-e7bc-4876-815b-e41a9250e594/lib/python3.10/site-packages/langchain/llms/mlflow_ai_gateway.py:100: FutureWarning: MLflow AI gateway is deprecated and has been replaced by the deployments API for generative AI. See https://mlflow.org/docs/latest/llms/gateway/deprecation.html for more details.\n  resp = mlflow.gateway.query(self.route, data=data)\n/local_disk0/.ephemeral_nfs/envs/pythonEnv-54970c6c-e7bc-4876-815b-e41a9250e594/lib/python3.10/site-packages/mlflow/gateway/fluent.py:247: FutureWarning: MLflow AI gateway is deprecated and has been replaced by the deployments API for generative AI. See https://mlflow.org/docs/latest/llms/gateway/deprecation.html for more details.\n  return MlflowGatewayClient().query(route, data)\n/local_disk0/.ephemeral_nfs/envs/pythonEnv-54970c6c-e7bc-4876-815b-e41a9250e594/lib/python3.10/site-packages/mlflow/gateway/client.py:44: FutureWarning: MLflow AI gateway is deprecated and has been replaced by the deployments API for generative AI. See https://mlflow.org/docs/latest/llms/gateway/deprecation.html for more details.\n  self._gateway_uri = gateway_uri or get_gateway_uri()\n<command-2901883420740584>:68: FutureWarning: MLflow AI gateway is deprecated and has been replaced by the deployments API for generative AI. See https://mlflow.org/docs/latest/llms/gateway/deprecation.html for more details.\n  delete_route(\"text2\")\n/local_disk0/.ephemeral_nfs/envs/pythonEnv-54970c6c-e7bc-4876-815b-e41a9250e594/lib/python3.10/site-packages/mlflow/gateway/fluent.py:129: FutureWarning: MLflow AI gateway is deprecated and has been replaced by the deployments API for generative AI. See https://mlflow.org/docs/latest/llms/gateway/deprecation.html for more details.\n  MlflowGatewayClient().delete_route(name)\n<command-2901883420740584>:31: FutureWarning: MLflow AI gateway is deprecated and has been replaced by the deployments API for generative AI. See https://mlflow.org/docs/latest/llms/gateway/deprecation.html for more details.\n  create_route(\n/local_disk0/.ephemeral_nfs/envs/pythonEnv-54970c6c-e7bc-4876-815b-e41a9250e594/lib/python3.10/site-packages/mlflow/gateway/fluent.py:102: FutureWarning: MLflow AI gateway is deprecated and has been replaced by the deployments API for generative AI. See https://mlflow.org/docs/latest/llms/gateway/deprecation.html for more details.\n  return MlflowGatewayClient().create_route(name, route_type, model)\n<command-2901883420740584>:43: FutureWarning: MLflow AI gateway is deprecated and has been replaced by the deployments API for generative AI. See https://mlflow.org/docs/latest/llms/gateway/deprecation.html for more details.\n  response1 = query(\n<command-2901883420740584>:63: FutureWarning: MLflow AI gateway is deprecated and has been replaced by the deployments API for generative AI. See https://mlflow.org/docs/latest/llms/gateway/deprecation.html for more details.\n  delete_route(\"text1\")\n/local_disk0/.ephemeral_nfs/envs/pythonEnv-54970c6c-e7bc-4876-815b-e41a9250e594/lib/python3.10/site-packages/langchain/llms/mlflow_ai_gateway.py:100: FutureWarning: MLflow AI gateway is deprecated and has been replaced by the deployments API for generative AI. See https://mlflow.org/docs/latest/llms/gateway/deprecation.html for more details.\n  resp = mlflow.gateway.query(self.route, data=data)\n/local_disk0/.ephemeral_nfs/envs/pythonEnv-54970c6c-e7bc-4876-815b-e41a9250e594/lib/python3.10/site-packages/mlflow/gateway/fluent.py:247: FutureWarning: MLflow AI gateway is deprecated and has been replaced by the deployments API for generative AI. See https://mlflow.org/docs/latest/llms/gateway/deprecation.html for more details.\n  return MlflowGatewayClient().query(route, data)\n/local_disk0/.ephemeral_nfs/envs/pythonEnv-54970c6c-e7bc-4876-815b-e41a9250e594/lib/python3.10/site-packages/mlflow/gateway/client.py:44: FutureWarning: MLflow AI gateway is deprecated and has been replaced by the deployments API for generative AI. See https://mlflow.org/docs/latest/llms/gateway/deprecation.html for more details.\n  self._gateway_uri = gateway_uri or get_gateway_uri()\n<command-2901883420740584>:68: FutureWarning: MLflow AI gateway is deprecated and has been replaced by the deployments API for generative AI. See https://mlflow.org/docs/latest/llms/gateway/deprecation.html for more details.\n  delete_route(\"text2\")\n/local_disk0/.ephemeral_nfs/envs/pythonEnv-54970c6c-e7bc-4876-815b-e41a9250e594/lib/python3.10/site-packages/mlflow/gateway/fluent.py:129: FutureWarning: MLflow AI gateway is deprecated and has been replaced by the deployments API for generative AI. See https://mlflow.org/docs/latest/llms/gateway/deprecation.html for more details.\n  MlflowGatewayClient().delete_route(name)\n<command-2901883420740584>:31: FutureWarning: MLflow AI gateway is deprecated and has been replaced by the deployments API for generative AI. See https://mlflow.org/docs/latest/llms/gateway/deprecation.html for more details.\n  create_route(\n/local_disk0/.ephemeral_nfs/envs/pythonEnv-54970c6c-e7bc-4876-815b-e41a9250e594/lib/python3.10/site-packages/mlflow/gateway/fluent.py:102: FutureWarning: MLflow AI gateway is deprecated and has been replaced by the deployments API for generative AI. See https://mlflow.org/docs/latest/llms/gateway/deprecation.html for more details.\n  return MlflowGatewayClient().create_route(name, route_type, model)\n<command-2901883420740584>:43: FutureWarning: MLflow AI gateway is deprecated and has been replaced by the deployments API for generative AI. See https://mlflow.org/docs/latest/llms/gateway/deprecation.html for more details.\n  response1 = query(\n<command-2901883420740584>:63: FutureWarning: MLflow AI gateway is deprecated and has been replaced by the deployments API for generative AI. See https://mlflow.org/docs/latest/llms/gateway/deprecation.html for more details.\n  delete_route(\"text1\")\n/local_disk0/.ephemeral_nfs/envs/pythonEnv-54970c6c-e7bc-4876-815b-e41a9250e594/lib/python3.10/site-packages/langchain/llms/mlflow_ai_gateway.py:100: FutureWarning: MLflow AI gateway is deprecated and has been replaced by the deployments API for generative AI. See https://mlflow.org/docs/latest/llms/gateway/deprecation.html for more details.\n  resp = mlflow.gateway.query(self.route, data=data)\n/local_disk0/.ephemeral_nfs/envs/pythonEnv-54970c6c-e7bc-4876-815b-e41a9250e594/lib/python3.10/site-packages/mlflow/gateway/fluent.py:247: FutureWarning: MLflow AI gateway is deprecated and has been replaced by the deployments API for generative AI. See https://mlflow.org/docs/latest/llms/gateway/deprecation.html for more details.\n  return MlflowGatewayClient().query(route, data)\n/local_disk0/.ephemeral_nfs/envs/pythonEnv-54970c6c-e7bc-4876-815b-e41a9250e594/lib/python3.10/site-packages/mlflow/gateway/client.py:44: FutureWarning: MLflow AI gateway is deprecated and has been replaced by the deployments API for generative AI. See https://mlflow.org/docs/latest/llms/gateway/deprecation.html for more details.\n  self._gateway_uri = gateway_uri or get_gateway_uri()\n<command-2901883420740584>:68: FutureWarning: MLflow AI gateway is deprecated and has been replaced by the deployments API for generative AI. See https://mlflow.org/docs/latest/llms/gateway/deprecation.html for more details.\n  delete_route(\"text2\")\n/local_disk0/.ephemeral_nfs/envs/pythonEnv-54970c6c-e7bc-4876-815b-e41a9250e594/lib/python3.10/site-packages/mlflow/gateway/fluent.py:129: FutureWarning: MLflow AI gateway is deprecated and has been replaced by the deployments API for generative AI. See https://mlflow.org/docs/latest/llms/gateway/deprecation.html for more details.\n  MlflowGatewayClient().delete_route(name)\n<command-2901883420740584>:31: FutureWarning: MLflow AI gateway is deprecated and has been replaced by the deployments API for generative AI. See https://mlflow.org/docs/latest/llms/gateway/deprecation.html for more details.\n  create_route(\n/local_disk0/.ephemeral_nfs/envs/pythonEnv-54970c6c-e7bc-4876-815b-e41a9250e594/lib/python3.10/site-packages/mlflow/gateway/fluent.py:102: FutureWarning: MLflow AI gateway is deprecated and has been replaced by the deployments API for generative AI. See https://mlflow.org/docs/latest/llms/gateway/deprecation.html for more details.\n  return MlflowGatewayClient().create_route(name, route_type, model)\n<command-2901883420740584>:43: FutureWarning: MLflow AI gateway is deprecated and has been replaced by the deployments API for generative AI. See https://mlflow.org/docs/latest/llms/gateway/deprecation.html for more details.\n  response1 = query(\n<command-2901883420740584>:63: FutureWarning: MLflow AI gateway is deprecated and has been replaced by the deployments API for generative AI. See https://mlflow.org/docs/latest/llms/gateway/deprecation.html for more details.\n  delete_route(\"text1\")\n/local_disk0/.ephemeral_nfs/envs/pythonEnv-54970c6c-e7bc-4876-815b-e41a9250e594/lib/python3.10/site-packages/langchain/llms/mlflow_ai_gateway.py:100: FutureWarning: MLflow AI gateway is deprecated and has been replaced by the deployments API for generative AI. See https://mlflow.org/docs/latest/llms/gateway/deprecation.html for more details.\n  resp = mlflow.gateway.query(self.route, data=data)\n/local_disk0/.ephemeral_nfs/envs/pythonEnv-54970c6c-e7bc-4876-815b-e41a9250e594/lib/python3.10/site-packages/mlflow/gateway/fluent.py:247: FutureWarning: MLflow AI gateway is deprecated and has been replaced by the deployments API for generative AI. See https://mlflow.org/docs/latest/llms/gateway/deprecation.html for more details.\n  return MlflowGatewayClient().query(route, data)\n/local_disk0/.ephemeral_nfs/envs/pythonEnv-54970c6c-e7bc-4876-815b-e41a9250e594/lib/python3.10/site-packages/mlflow/gateway/client.py:44: FutureWarning: MLflow AI gateway is deprecated and has been replaced by the deployments API for generative AI. See https://mlflow.org/docs/latest/llms/gateway/deprecation.html for more details.\n  self._gateway_uri = gateway_uri or get_gateway_uri()\n<command-2901883420740584>:68: FutureWarning: MLflow AI gateway is deprecated and has been replaced by the deployments API for generative AI. See https://mlflow.org/docs/latest/llms/gateway/deprecation.html for more details.\n  delete_route(\"text2\")\n/local_disk0/.ephemeral_nfs/envs/pythonEnv-54970c6c-e7bc-4876-815b-e41a9250e594/lib/python3.10/site-packages/mlflow/gateway/fluent.py:129: FutureWarning: MLflow AI gateway is deprecated and has been replaced by the deployments API for generative AI. See https://mlflow.org/docs/latest/llms/gateway/deprecation.html for more details.\n  MlflowGatewayClient().delete_route(name)\n<command-2901883420740584>:31: FutureWarning: MLflow AI gateway is deprecated and has been replaced by the deployments API for generative AI. See https://mlflow.org/docs/latest/llms/gateway/deprecation.html for more details.\n  create_route(\n/local_disk0/.ephemeral_nfs/envs/pythonEnv-54970c6c-e7bc-4876-815b-e41a9250e594/lib/python3.10/site-packages/mlflow/gateway/fluent.py:102: FutureWarning: MLflow AI gateway is deprecated and has been replaced by the deployments API for generative AI. See https://mlflow.org/docs/latest/llms/gateway/deprecation.html for more details.\n  return MlflowGatewayClient().create_route(name, route_type, model)\n<command-2901883420740584>:43: FutureWarning: MLflow AI gateway is deprecated and has been replaced by the deployments API for generative AI. See https://mlflow.org/docs/latest/llms/gateway/deprecation.html for more details.\n  response1 = query(\n<command-2901883420740584>:63: FutureWarning: MLflow AI gateway is deprecated and has been replaced by the deployments API for generative AI. See https://mlflow.org/docs/latest/llms/gateway/deprecation.html for more details.\n  delete_route(\"text1\")\n/local_disk0/.ephemeral_nfs/envs/pythonEnv-54970c6c-e7bc-4876-815b-e41a9250e594/lib/python3.10/site-packages/langchain/llms/mlflow_ai_gateway.py:100: FutureWarning: MLflow AI gateway is deprecated and has been replaced by the deployments API for generative AI. See https://mlflow.org/docs/latest/llms/gateway/deprecation.html for more details.\n  resp = mlflow.gateway.query(self.route, data=data)\n/local_disk0/.ephemeral_nfs/envs/pythonEnv-54970c6c-e7bc-4876-815b-e41a9250e594/lib/python3.10/site-packages/mlflow/gateway/fluent.py:247: FutureWarning: MLflow AI gateway is deprecated and has been replaced by the deployments API for generative AI. See https://mlflow.org/docs/latest/llms/gateway/deprecation.html for more details.\n  return MlflowGatewayClient().query(route, data)\n/local_disk0/.ephemeral_nfs/envs/pythonEnv-54970c6c-e7bc-4876-815b-e41a9250e594/lib/python3.10/site-packages/mlflow/gateway/client.py:44: FutureWarning: MLflow AI gateway is deprecated and has been replaced by the deployments API for generative AI. See https://mlflow.org/docs/latest/llms/gateway/deprecation.html for more details.\n  self._gateway_uri = gateway_uri or get_gateway_uri()\n<command-2901883420740584>:68: FutureWarning: MLflow AI gateway is deprecated and has been replaced by the deployments API for generative AI. See https://mlflow.org/docs/latest/llms/gateway/deprecation.html for more details.\n  delete_route(\"text2\")\n/local_disk0/.ephemeral_nfs/envs/pythonEnv-54970c6c-e7bc-4876-815b-e41a9250e594/lib/python3.10/site-packages/mlflow/gateway/fluent.py:129: FutureWarning: MLflow AI gateway is deprecated and has been replaced by the deployments API for generative AI. See https://mlflow.org/docs/latest/llms/gateway/deprecation.html for more details.\n  MlflowGatewayClient().delete_route(name)\n<command-2901883420740584>:31: FutureWarning: MLflow AI gateway is deprecated and has been replaced by the deployments API for generative AI. See https://mlflow.org/docs/latest/llms/gateway/deprecation.html for more details.\n  create_route(\n/local_disk0/.ephemeral_nfs/envs/pythonEnv-54970c6c-e7bc-4876-815b-e41a9250e594/lib/python3.10/site-packages/mlflow/gateway/fluent.py:102: FutureWarning: MLflow AI gateway is deprecated and has been replaced by the deployments API for generative AI. See https://mlflow.org/docs/latest/llms/gateway/deprecation.html for more details.\n  return MlflowGatewayClient().create_route(name, route_type, model)\n<command-2901883420740584>:43: FutureWarning: MLflow AI gateway is deprecated and has been replaced by the deployments API for generative AI. See https://mlflow.org/docs/latest/llms/gateway/deprecation.html for more details.\n  response1 = query(\n<command-2901883420740584>:63: FutureWarning: MLflow AI gateway is deprecated and has been replaced by the deployments API for generative AI. See https://mlflow.org/docs/latest/llms/gateway/deprecation.html for more details.\n  delete_route(\"text1\")\n/local_disk0/.ephemeral_nfs/envs/pythonEnv-54970c6c-e7bc-4876-815b-e41a9250e594/lib/python3.10/site-packages/langchain/llms/mlflow_ai_gateway.py:100: FutureWarning: MLflow AI gateway is deprecated and has been replaced by the deployments API for generative AI. See https://mlflow.org/docs/latest/llms/gateway/deprecation.html for more details.\n  resp = mlflow.gateway.query(self.route, data=data)\n/local_disk0/.ephemeral_nfs/envs/pythonEnv-54970c6c-e7bc-4876-815b-e41a9250e594/lib/python3.10/site-packages/mlflow/gateway/fluent.py:247: FutureWarning: MLflow AI gateway is deprecated and has been replaced by the deployments API for generative AI. See https://mlflow.org/docs/latest/llms/gateway/deprecation.html for more details.\n  return MlflowGatewayClient().query(route, data)\n/local_disk0/.ephemeral_nfs/envs/pythonEnv-54970c6c-e7bc-4876-815b-e41a9250e594/lib/python3.10/site-packages/mlflow/gateway/client.py:44: FutureWarning: MLflow AI gateway is deprecated and has been replaced by the deployments API for generative AI. See https://mlflow.org/docs/latest/llms/gateway/deprecation.html for more details.\n  self._gateway_uri = gateway_uri or get_gateway_uri()\n<command-2901883420740584>:68: FutureWarning: MLflow AI gateway is deprecated and has been replaced by the deployments API for generative AI. See https://mlflow.org/docs/latest/llms/gateway/deprecation.html for more details.\n  delete_route(\"text2\")\n/local_disk0/.ephemeral_nfs/envs/pythonEnv-54970c6c-e7bc-4876-815b-e41a9250e594/lib/python3.10/site-packages/mlflow/gateway/fluent.py:129: FutureWarning: MLflow AI gateway is deprecated and has been replaced by the deployments API for generative AI. See https://mlflow.org/docs/latest/llms/gateway/deprecation.html for more details.\n  MlflowGatewayClient().delete_route(name)\n<command-2901883420740584>:31: FutureWarning: MLflow AI gateway is deprecated and has been replaced by the deployments API for generative AI. See https://mlflow.org/docs/latest/llms/gateway/deprecation.html for more details.\n  create_route(\n/local_disk0/.ephemeral_nfs/envs/pythonEnv-54970c6c-e7bc-4876-815b-e41a9250e594/lib/python3.10/site-packages/mlflow/gateway/fluent.py:102: FutureWarning: MLflow AI gateway is deprecated and has been replaced by the deployments API for generative AI. See https://mlflow.org/docs/latest/llms/gateway/deprecation.html for more details.\n  return MlflowGatewayClient().create_route(name, route_type, model)\n<command-2901883420740584>:43: FutureWarning: MLflow AI gateway is deprecated and has been replaced by the deployments API for generative AI. See https://mlflow.org/docs/latest/llms/gateway/deprecation.html for more details.\n  response1 = query(\n<command-2901883420740584>:63: FutureWarning: MLflow AI gateway is deprecated and has been replaced by the deployments API for generative AI. See https://mlflow.org/docs/latest/llms/gateway/deprecation.html for more details.\n  delete_route(\"text1\")\n/local_disk0/.ephemeral_nfs/envs/pythonEnv-54970c6c-e7bc-4876-815b-e41a9250e594/lib/python3.10/site-packages/langchain/llms/mlflow_ai_gateway.py:100: FutureWarning: MLflow AI gateway is deprecated and has been replaced by the deployments API for generative AI. See https://mlflow.org/docs/latest/llms/gateway/deprecation.html for more details.\n  resp = mlflow.gateway.query(self.route, data=data)\n/local_disk0/.ephemeral_nfs/envs/pythonEnv-54970c6c-e7bc-4876-815b-e41a9250e594/lib/python3.10/site-packages/mlflow/gateway/fluent.py:247: FutureWarning: MLflow AI gateway is deprecated and has been replaced by the deployments API for generative AI. See https://mlflow.org/docs/latest/llms/gateway/deprecation.html for more details.\n  return MlflowGatewayClient().query(route, data)\n/local_disk0/.ephemeral_nfs/envs/pythonEnv-54970c6c-e7bc-4876-815b-e41a9250e594/lib/python3.10/site-packages/mlflow/gateway/client.py:44: FutureWarning: MLflow AI gateway is deprecated and has been replaced by the deployments API for generative AI. See https://mlflow.org/docs/latest/llms/gateway/deprecation.html for more details.\n  self._gateway_uri = gateway_uri or get_gateway_uri()\n<command-2901883420740584>:68: FutureWarning: MLflow AI gateway is deprecated and has been replaced by the deployments API for generative AI. See https://mlflow.org/docs/latest/llms/gateway/deprecation.html for more details.\n  delete_route(\"text2\")\n/local_disk0/.ephemeral_nfs/envs/pythonEnv-54970c6c-e7bc-4876-815b-e41a9250e594/lib/python3.10/site-packages/mlflow/gateway/fluent.py:129: FutureWarning: MLflow AI gateway is deprecated and has been replaced by the deployments API for generative AI. See https://mlflow.org/docs/latest/llms/gateway/deprecation.html for more details.\n  MlflowGatewayClient().delete_route(name)\n<command-2901883420740584>:31: FutureWarning: MLflow AI gateway is deprecated and has been replaced by the deployments API for generative AI. See https://mlflow.org/docs/latest/llms/gateway/deprecation.html for more details.\n  create_route(\n/local_disk0/.ephemeral_nfs/envs/pythonEnv-54970c6c-e7bc-4876-815b-e41a9250e594/lib/python3.10/site-packages/mlflow/gateway/fluent.py:102: FutureWarning: MLflow AI gateway is deprecated and has been replaced by the deployments API for generative AI. See https://mlflow.org/docs/latest/llms/gateway/deprecation.html for more details.\n  return MlflowGatewayClient().create_route(name, route_type, model)\n<command-2901883420740584>:43: FutureWarning: MLflow AI gateway is deprecated and has been replaced by the deployments API for generative AI. See https://mlflow.org/docs/latest/llms/gateway/deprecation.html for more details.\n  response1 = query(\n<command-2901883420740584>:63: FutureWarning: MLflow AI gateway is deprecated and has been replaced by the deployments API for generative AI. See https://mlflow.org/docs/latest/llms/gateway/deprecation.html for more details.\n  delete_route(\"text1\")\n/local_disk0/.ephemeral_nfs/envs/pythonEnv-54970c6c-e7bc-4876-815b-e41a9250e594/lib/python3.10/site-packages/langchain/llms/mlflow_ai_gateway.py:100: FutureWarning: MLflow AI gateway is deprecated and has been replaced by the deployments API for generative AI. See https://mlflow.org/docs/latest/llms/gateway/deprecation.html for more details.\n  resp = mlflow.gateway.query(self.route, data=data)\n/local_disk0/.ephemeral_nfs/envs/pythonEnv-54970c6c-e7bc-4876-815b-e41a9250e594/lib/python3.10/site-packages/mlflow/gateway/fluent.py:247: FutureWarning: MLflow AI gateway is deprecated and has been replaced by the deployments API for generative AI. See https://mlflow.org/docs/latest/llms/gateway/deprecation.html for more details.\n  return MlflowGatewayClient().query(route, data)\n/local_disk0/.ephemeral_nfs/envs/pythonEnv-54970c6c-e7bc-4876-815b-e41a9250e594/lib/python3.10/site-packages/mlflow/gateway/client.py:44: FutureWarning: MLflow AI gateway is deprecated and has been replaced by the deployments API for generative AI. See https://mlflow.org/docs/latest/llms/gateway/deprecation.html for more details.\n  self._gateway_uri = gateway_uri or get_gateway_uri()\n<command-2901883420740584>:68: FutureWarning: MLflow AI gateway is deprecated and has been replaced by the deployments API for generative AI. See https://mlflow.org/docs/latest/llms/gateway/deprecation.html for more details.\n  delete_route(\"text2\")\n/local_disk0/.ephemeral_nfs/envs/pythonEnv-54970c6c-e7bc-4876-815b-e41a9250e594/lib/python3.10/site-packages/mlflow/gateway/fluent.py:129: FutureWarning: MLflow AI gateway is deprecated and has been replaced by the deployments API for generative AI. See https://mlflow.org/docs/latest/llms/gateway/deprecation.html for more details.\n  MlflowGatewayClient().delete_route(name)\n<command-2901883420740584>:31: FutureWarning: MLflow AI gateway is deprecated and has been replaced by the deployments API for generative AI. See https://mlflow.org/docs/latest/llms/gateway/deprecation.html for more details.\n  create_route(\n/local_disk0/.ephemeral_nfs/envs/pythonEnv-54970c6c-e7bc-4876-815b-e41a9250e594/lib/python3.10/site-packages/mlflow/gateway/fluent.py:102: FutureWarning: MLflow AI gateway is deprecated and has been replaced by the deployments API for generative AI. See https://mlflow.org/docs/latest/llms/gateway/deprecation.html for more details.\n  return MlflowGatewayClient().create_route(name, route_type, model)\n<command-2901883420740584>:43: FutureWarning: MLflow AI gateway is deprecated and has been replaced by the deployments API for generative AI. See https://mlflow.org/docs/latest/llms/gateway/deprecation.html for more details.\n  response1 = query(\n"
     ]
    },
    {
     "output_type": "display_data",
     "data": {
      "text/html": [
       "<style scoped>\n",
       "  .ansiout {\n",
       "    display: block;\n",
       "    unicode-bidi: embed;\n",
       "    white-space: pre-wrap;\n",
       "    word-wrap: break-word;\n",
       "    word-break: break-all;\n",
       "    font-family: \"Menlo\", \"Monaco\", \"Consolas\", \"Ubuntu Mono\", \"Source Code Pro\", monospace;\n",
       "    font-size: 13px;\n",
       "    color: #555;\n",
       "    margin-left: 4px;\n",
       "    line-height: 19px;\n",
       "  }\n",
       "</style>"
      ]
     },
     "metadata": {
      "application/vnd.databricks.v1+output": {
       "arguments": {},
       "data": "",
       "errorSummary": "Cancelled",
       "errorTraceType": "html",
       "metadata": {},
       "type": "ipynbError"
      }
     },
     "output_type": "display_data"
    }
   ],
   "source": [
    "from langchain.llms import MlflowAIGateway\n",
    "from langchain.prompts import PromptTemplate\n",
    "from langchain.chains import RetrievalQA\n",
    "import gradio as gr\n",
    "from mlflow.gateway import set_gateway_uri, create_route, query,delete_route\n",
    "\n",
    "set_gateway_uri(\"databricks\")\n",
    "\n",
    "mosaic_completion_route = MlflowAIGateway(\n",
    "  gateway_uri=\"databricks\",\n",
    "  route=\"completion\"\n",
    ")\n",
    "\n",
    "# Wrap the prompt and Gateway Route into a chain\n",
    "\n",
    "template = \"\"\"[INST] <<SYS>>\n",
    "You are Banking Question Answering Machine. Answer Accordingly\n",
    "<</SYS>>\n",
    "\n",
    "{context}\n",
    "\n",
    "{question} [/INST]\n",
    "\n",
    "\"\"\"\n",
    "prompt = PromptTemplate(input_variables=['context', 'question'], template=template)\n",
    "retrieval_qa_chain = RetrievalQA.from_chain_type(llm=mosaic_completion_route, chain_type=\"stuff\", retriever=vectordb.as_retriever(), chain_type_kwargs={\"prompt\": prompt})\n",
    "\n",
    "\n",
    "def generating_text(prompt,route_param,token):\n",
    "    # Create a Route for text completions with MosaicML Inference API \n",
    "    create_route(\n",
    "        name=route_param,\n",
    "        route_type=\"llm/v1/completions\",\n",
    "        model={\n",
    "            \"name\": \"llama2-70b-chat\",\n",
    "            \"provider\": \"mosaicml\",\n",
    "            \"mosaicml_config\": {\n",
    "            \"mosaicml_api_key\": \"30HUkJ.UEvkMW9tAyMS7v91L4-e-gA0r.MKC0GUBphZ.2y5\"\n",
    "            }\n",
    "        }\n",
    "    )\n",
    "\n",
    "    response1 = query(\n",
    "    route=route_param,\n",
    "    data={\"prompt\": prompt,\"temperature\": 0.1,\n",
    "        \"max_tokens\": token}\n",
    "    )\n",
    "\n",
    "    return(response1)\n",
    "\n",
    "import string\n",
    "import random\n",
    " \n",
    "# initializing size of string\n",
    "N = 7\n",
    "\n",
    "def greet(Input,chat_history):\n",
    "    RouteName1=\"text1\"\n",
    "    RouteName2=\"text2\"\n",
    "    system=\"you are a translator which converts english to hindi. Please translate the given text to hindi language and only return the content translated. no explanation\"\n",
    "    system1=\"you are a translator which converts hindi to english. Please translate the given text to english language from hindi language and only return the content translated. no explanation\"\n",
    "    prompt=f\"[INST] <<SYS>> {system1} <</SYS>> {Input}[/INST]\"\n",
    "    delete_route(\"text1\")\n",
    "    result=generating_text(prompt,RouteName1,400)\n",
    "    res=result['candidates'][0]['text']\n",
    "    t=retrieval_qa_chain.run(res)\n",
    "    prompt2=f\"[INST] <<SYS>> {system} <</SYS>> {t} [/INST]\"\n",
    "    delete_route(\"text2\")\n",
    "    token=800\n",
    "    result1=generating_text(prompt2,RouteName2,token)\n",
    "    chat_history.append((Input, result1['candidates'][0]['text']))\n",
    "    return \"\", chat_history\n",
    "\n",
    "\n",
    "with gr.Blocks(theme=gr.themes.Soft(primary_hue=gr.themes.colors.blue, secondary_hue=gr.themes.colors.red)) as demo:\n",
    "    gr.Markdown(\"## सखा- भाषा अब कोई बाधा नहीं है\")\n",
    "    chatbot = gr.Chatbot(height=400) #just to fit the notebook\n",
    "    msg = gr.Textbox(label=\"Prompt\",placeholder=\"अपना प्रश्न हिंदी में यहां दर्ज करें\",max_lines=2)\n",
    "    with gr.Row():\n",
    "        btn = gr.Button(\"Submit\")\n",
    "        clear = gr.ClearButton(components=[msg, chatbot], value=\"Clear console\")\n",
    "    # btn = gr.Button(\"Submit\")\n",
    "    # clear = gr.ClearButton(components=[msg, chatbot], value=\"Clear console\")\n",
    "    btn.click(greet, inputs=[msg, chatbot], outputs=[msg, chatbot])\n",
    "    msg.submit(greet, inputs=[msg, chatbot], outputs=[msg, chatbot])\n",
    "    gr.Examples([[\"एचडीएफसी बैंक का कस्टमर केयर नंबर क्या है?\"],[\"गोल्ड लोन क्या है??\"],['गोल्ड लोन के लिए आवश्यक दस्तावेज।']], inputs=[msg,chatbot])\n",
    "\n",
    "gr.close_all()\n",
    "demo.launch(share=True,debug=True)\n"
   ]
  },
  {
   "cell_type": "code",
   "execution_count": 0,
   "metadata": {
    "application/vnd.databricks.v1+cell": {
     "cellMetadata": {},
     "inputWidgets": {},
     "nuid": "38591867-ea17-4ee2-8bc8-0dec5dac6196",
     "showTitle": false,
     "title": ""
    }
   },
   "outputs": [],
   "source": []
  }
 ],
 "metadata": {
  "application/vnd.databricks.v1+notebook": {
   "dashboards": [],
   "language": "python",
   "notebookMetadata": {
    "pythonIndentUnit": 4
   },
   "notebookName": "Final_Notebook",
   "widgets": {}
  }
 },
 "nbformat": 4,
 "nbformat_minor": 0
}
